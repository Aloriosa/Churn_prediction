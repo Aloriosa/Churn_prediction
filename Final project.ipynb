{
 "cells": [
  {
   "cell_type": "markdown",
   "metadata": {},
   "source": [
    "# Churn prediction"
   ]
  },
  {
   "cell_type": "markdown",
   "metadata": {},
   "source": [
    "Building customer relationships or customer relationship management (CRM) is an important link in the functioning of any business. The success of the whole company often depends on how well the work with the audience is built. In our project we will face one of the most urgent tasks in the field of CRM: churn prediction. The essence of the task is to find in advance a segment of users who are inclined, after a certain period of time, to refuse to use a certain product or service. The exact and timely finding of such users allows you to effectively deal with their churn, for example, to identify the causes of the churn and take measures to retain customers. This task is relevant for most organizations providing services in the B2C segment and is doubly relevant in areas where the distribution of services is close to 100%. A good example of such an area is the mobile communications market, where saturation has actually occurred, and as a result, the growth of the customer base is gradually decreasing. In such a situation, the task of retaining customers and building relationships with them comes to the fore. In the process of working on our project, we expect to learn how to mathematically set the task of forecasting churn, build and optimize forecast models, assess their quality and economic potential. And, of course, we can apply the gained knowledge and experience in the future to solve a similar problem in the area of our work."
   ]
  },
  {
   "cell_type": "markdown",
   "metadata": {},
   "source": [
    "In this task, we will practice doing descriptive analysis and visualization of the so-called “closed” data - data that is provided for analyzing and building models without a description. The sample with which we will work is attached.\n",
    "\n",
    "Class labels (here 1 corresponds to the outflow class, -1 to the non-outflow class) - orange_small_churn_labels.train\n",
    "The data (provided without description, but it is known that the first 190 variables are numeric, and the remaining 40 are categorical) - orange_small_churn_data.train"
   ]
  },
  {
   "cell_type": "code",
   "execution_count": 1,
   "metadata": {
    "collapsed": true
   },
   "outputs": [],
   "source": [
    "import numpy as np\n",
    "import pandas as pd"
   ]
  },
  {
   "cell_type": "code",
   "execution_count": 2,
   "metadata": {
    "collapsed": true
   },
   "outputs": [],
   "source": [
    "from scipy.stats.stats import pearsonr"
   ]
  },
  {
   "cell_type": "code",
   "execution_count": 3,
   "metadata": {
    "collapsed": true
   },
   "outputs": [],
   "source": [
    "from matplotlib import pyplot as plt\n",
    "import seaborn\n",
    "%matplotlib inline"
   ]
  },
  {
   "cell_type": "code",
   "execution_count": 4,
   "metadata": {
    "collapsed": true
   },
   "outputs": [],
   "source": [
    "data = pd.read_csv('orange_small_churn_data.train')\n",
    "labels = pd.read_csv('orange_small_churn_labels.train', header=None)"
   ]
  },
  {
   "cell_type": "markdown",
   "metadata": {},
   "source": [
    "Let's look on our data"
   ]
  },
  {
   "cell_type": "code",
   "execution_count": 5,
   "metadata": {},
   "outputs": [
    {
     "data": {
      "text/html": [
       "<div>\n",
       "<style scoped>\n",
       "    .dataframe tbody tr th:only-of-type {\n",
       "        vertical-align: middle;\n",
       "    }\n",
       "\n",
       "    .dataframe tbody tr th {\n",
       "        vertical-align: top;\n",
       "    }\n",
       "\n",
       "    .dataframe thead th {\n",
       "        text-align: right;\n",
       "    }\n",
       "</style>\n",
       "<table border=\"1\" class=\"dataframe\">\n",
       "  <thead>\n",
       "    <tr style=\"text-align: right;\">\n",
       "      <th></th>\n",
       "      <th>Var1</th>\n",
       "      <th>Var2</th>\n",
       "      <th>Var3</th>\n",
       "      <th>Var4</th>\n",
       "      <th>Var5</th>\n",
       "      <th>Var6</th>\n",
       "      <th>Var7</th>\n",
       "      <th>Var8</th>\n",
       "      <th>Var9</th>\n",
       "      <th>Var10</th>\n",
       "      <th>...</th>\n",
       "      <th>Var221</th>\n",
       "      <th>Var222</th>\n",
       "      <th>Var223</th>\n",
       "      <th>Var224</th>\n",
       "      <th>Var225</th>\n",
       "      <th>Var226</th>\n",
       "      <th>Var227</th>\n",
       "      <th>Var228</th>\n",
       "      <th>Var229</th>\n",
       "      <th>Var230</th>\n",
       "    </tr>\n",
       "  </thead>\n",
       "  <tbody>\n",
       "    <tr>\n",
       "      <th>0</th>\n",
       "      <td>NaN</td>\n",
       "      <td>NaN</td>\n",
       "      <td>NaN</td>\n",
       "      <td>NaN</td>\n",
       "      <td>NaN</td>\n",
       "      <td>3052.0</td>\n",
       "      <td>NaN</td>\n",
       "      <td>NaN</td>\n",
       "      <td>NaN</td>\n",
       "      <td>NaN</td>\n",
       "      <td>...</td>\n",
       "      <td>Al6ZaUT</td>\n",
       "      <td>vr93T2a</td>\n",
       "      <td>LM8l689qOp</td>\n",
       "      <td>NaN</td>\n",
       "      <td>NaN</td>\n",
       "      <td>fKCe</td>\n",
       "      <td>02N6s8f</td>\n",
       "      <td>xwM2aC7IdeMC0</td>\n",
       "      <td>NaN</td>\n",
       "      <td>NaN</td>\n",
       "    </tr>\n",
       "    <tr>\n",
       "      <th>1</th>\n",
       "      <td>NaN</td>\n",
       "      <td>NaN</td>\n",
       "      <td>NaN</td>\n",
       "      <td>NaN</td>\n",
       "      <td>NaN</td>\n",
       "      <td>1813.0</td>\n",
       "      <td>7.0</td>\n",
       "      <td>NaN</td>\n",
       "      <td>NaN</td>\n",
       "      <td>NaN</td>\n",
       "      <td>...</td>\n",
       "      <td>oslk</td>\n",
       "      <td>6hQ9lNX</td>\n",
       "      <td>LM8l689qOp</td>\n",
       "      <td>NaN</td>\n",
       "      <td>ELof</td>\n",
       "      <td>xb3V</td>\n",
       "      <td>RAYp</td>\n",
       "      <td>55YFVY9</td>\n",
       "      <td>mj86</td>\n",
       "      <td>NaN</td>\n",
       "    </tr>\n",
       "    <tr>\n",
       "      <th>2</th>\n",
       "      <td>NaN</td>\n",
       "      <td>NaN</td>\n",
       "      <td>NaN</td>\n",
       "      <td>NaN</td>\n",
       "      <td>NaN</td>\n",
       "      <td>1953.0</td>\n",
       "      <td>7.0</td>\n",
       "      <td>NaN</td>\n",
       "      <td>NaN</td>\n",
       "      <td>NaN</td>\n",
       "      <td>...</td>\n",
       "      <td>zCkv</td>\n",
       "      <td>catzS2D</td>\n",
       "      <td>LM8l689qOp</td>\n",
       "      <td>NaN</td>\n",
       "      <td>NaN</td>\n",
       "      <td>FSa2</td>\n",
       "      <td>ZI9m</td>\n",
       "      <td>ib5G6X1eUxUn6</td>\n",
       "      <td>mj86</td>\n",
       "      <td>NaN</td>\n",
       "    </tr>\n",
       "    <tr>\n",
       "      <th>3</th>\n",
       "      <td>NaN</td>\n",
       "      <td>NaN</td>\n",
       "      <td>NaN</td>\n",
       "      <td>NaN</td>\n",
       "      <td>NaN</td>\n",
       "      <td>1533.0</td>\n",
       "      <td>7.0</td>\n",
       "      <td>NaN</td>\n",
       "      <td>NaN</td>\n",
       "      <td>NaN</td>\n",
       "      <td>...</td>\n",
       "      <td>oslk</td>\n",
       "      <td>e4lqvY0</td>\n",
       "      <td>LM8l689qOp</td>\n",
       "      <td>NaN</td>\n",
       "      <td>NaN</td>\n",
       "      <td>xb3V</td>\n",
       "      <td>RAYp</td>\n",
       "      <td>F2FyR07IdsN7I</td>\n",
       "      <td>NaN</td>\n",
       "      <td>NaN</td>\n",
       "    </tr>\n",
       "    <tr>\n",
       "      <th>4</th>\n",
       "      <td>NaN</td>\n",
       "      <td>NaN</td>\n",
       "      <td>NaN</td>\n",
       "      <td>NaN</td>\n",
       "      <td>NaN</td>\n",
       "      <td>686.0</td>\n",
       "      <td>7.0</td>\n",
       "      <td>NaN</td>\n",
       "      <td>NaN</td>\n",
       "      <td>NaN</td>\n",
       "      <td>...</td>\n",
       "      <td>oslk</td>\n",
       "      <td>MAz3HNj</td>\n",
       "      <td>LM8l689qOp</td>\n",
       "      <td>NaN</td>\n",
       "      <td>NaN</td>\n",
       "      <td>WqMG</td>\n",
       "      <td>RAYp</td>\n",
       "      <td>F2FyR07IdsN7I</td>\n",
       "      <td>NaN</td>\n",
       "      <td>NaN</td>\n",
       "    </tr>\n",
       "  </tbody>\n",
       "</table>\n",
       "<p>5 rows × 230 columns</p>\n",
       "</div>"
      ],
      "text/plain": [
       "   Var1  Var2  Var3  Var4  Var5    Var6  Var7  Var8  Var9  Var10   ...    \\\n",
       "0   NaN   NaN   NaN   NaN   NaN  3052.0   NaN   NaN   NaN    NaN   ...     \n",
       "1   NaN   NaN   NaN   NaN   NaN  1813.0   7.0   NaN   NaN    NaN   ...     \n",
       "2   NaN   NaN   NaN   NaN   NaN  1953.0   7.0   NaN   NaN    NaN   ...     \n",
       "3   NaN   NaN   NaN   NaN   NaN  1533.0   7.0   NaN   NaN    NaN   ...     \n",
       "4   NaN   NaN   NaN   NaN   NaN   686.0   7.0   NaN   NaN    NaN   ...     \n",
       "\n",
       "    Var221   Var222      Var223  Var224  Var225  Var226   Var227  \\\n",
       "0  Al6ZaUT  vr93T2a  LM8l689qOp     NaN     NaN    fKCe  02N6s8f   \n",
       "1     oslk  6hQ9lNX  LM8l689qOp     NaN    ELof    xb3V     RAYp   \n",
       "2     zCkv  catzS2D  LM8l689qOp     NaN     NaN    FSa2     ZI9m   \n",
       "3     oslk  e4lqvY0  LM8l689qOp     NaN     NaN    xb3V     RAYp   \n",
       "4     oslk  MAz3HNj  LM8l689qOp     NaN     NaN    WqMG     RAYp   \n",
       "\n",
       "          Var228  Var229  Var230  \n",
       "0  xwM2aC7IdeMC0     NaN     NaN  \n",
       "1        55YFVY9    mj86     NaN  \n",
       "2  ib5G6X1eUxUn6    mj86     NaN  \n",
       "3  F2FyR07IdsN7I     NaN     NaN  \n",
       "4  F2FyR07IdsN7I     NaN     NaN  \n",
       "\n",
       "[5 rows x 230 columns]"
      ]
     },
     "execution_count": 5,
     "metadata": {},
     "output_type": "execute_result"
    }
   ],
   "source": [
    "data.head(5)"
   ]
  },
  {
   "cell_type": "code",
   "execution_count": 6,
   "metadata": {},
   "outputs": [
    {
     "data": {
      "text/html": [
       "<div>\n",
       "<style scoped>\n",
       "    .dataframe tbody tr th:only-of-type {\n",
       "        vertical-align: middle;\n",
       "    }\n",
       "\n",
       "    .dataframe tbody tr th {\n",
       "        vertical-align: top;\n",
       "    }\n",
       "\n",
       "    .dataframe thead th {\n",
       "        text-align: right;\n",
       "    }\n",
       "</style>\n",
       "<table border=\"1\" class=\"dataframe\">\n",
       "  <thead>\n",
       "    <tr style=\"text-align: right;\">\n",
       "      <th></th>\n",
       "      <th>Var1</th>\n",
       "      <th>Var2</th>\n",
       "      <th>Var3</th>\n",
       "      <th>Var4</th>\n",
       "      <th>Var5</th>\n",
       "      <th>Var6</th>\n",
       "      <th>Var7</th>\n",
       "      <th>Var8</th>\n",
       "      <th>Var9</th>\n",
       "      <th>Var10</th>\n",
       "      <th>...</th>\n",
       "      <th>Var183</th>\n",
       "      <th>Var184</th>\n",
       "      <th>Var185</th>\n",
       "      <th>Var186</th>\n",
       "      <th>Var187</th>\n",
       "      <th>Var188</th>\n",
       "      <th>Var189</th>\n",
       "      <th>Var190</th>\n",
       "      <th>Var209</th>\n",
       "      <th>Var230</th>\n",
       "    </tr>\n",
       "  </thead>\n",
       "  <tbody>\n",
       "    <tr>\n",
       "      <th>count</th>\n",
       "      <td>570.000000</td>\n",
       "      <td>1006.000000</td>\n",
       "      <td>1005.000000</td>\n",
       "      <td>1275.000000</td>\n",
       "      <td>1.165000e+03</td>\n",
       "      <td>35565.000000</td>\n",
       "      <td>35560.000000</td>\n",
       "      <td>0.0</td>\n",
       "      <td>570.000000</td>\n",
       "      <td>1.165000e+03</td>\n",
       "      <td>...</td>\n",
       "      <td>1.006000e+03</td>\n",
       "      <td>1006.000000</td>\n",
       "      <td>0.0</td>\n",
       "      <td>570.000000</td>\n",
       "      <td>570.00000</td>\n",
       "      <td>1006.000000</td>\n",
       "      <td>16785.000000</td>\n",
       "      <td>266.000000</td>\n",
       "      <td>0.0</td>\n",
       "      <td>0.0</td>\n",
       "    </tr>\n",
       "    <tr>\n",
       "      <th>mean</th>\n",
       "      <td>11.003509</td>\n",
       "      <td>0.004970</td>\n",
       "      <td>429.328358</td>\n",
       "      <td>0.148235</td>\n",
       "      <td>2.490555e+05</td>\n",
       "      <td>1319.915394</td>\n",
       "      <td>6.792126</td>\n",
       "      <td>NaN</td>\n",
       "      <td>47.487719</td>\n",
       "      <td>3.813466e+05</td>\n",
       "      <td>...</td>\n",
       "      <td>8.067657e+04</td>\n",
       "      <td>7.419483</td>\n",
       "      <td>NaN</td>\n",
       "      <td>3.515789</td>\n",
       "      <td>16.05614</td>\n",
       "      <td>165.108310</td>\n",
       "      <td>270.585523</td>\n",
       "      <td>22637.159019</td>\n",
       "      <td>NaN</td>\n",
       "      <td>NaN</td>\n",
       "    </tr>\n",
       "    <tr>\n",
       "      <th>std</th>\n",
       "      <td>34.952792</td>\n",
       "      <td>0.157642</td>\n",
       "      <td>4470.405915</td>\n",
       "      <td>1.396054</td>\n",
       "      <td>6.762021e+05</td>\n",
       "      <td>2609.955770</td>\n",
       "      <td>6.287285</td>\n",
       "      <td>NaN</td>\n",
       "      <td>147.137816</td>\n",
       "      <td>9.353348e+05</td>\n",
       "      <td>...</td>\n",
       "      <td>2.141650e+05</td>\n",
       "      <td>34.642351</td>\n",
       "      <td>NaN</td>\n",
       "      <td>9.412473</td>\n",
       "      <td>54.96505</td>\n",
       "      <td>113.400173</td>\n",
       "      <td>86.723561</td>\n",
       "      <td>30843.320634</td>\n",
       "      <td>NaN</td>\n",
       "      <td>NaN</td>\n",
       "    </tr>\n",
       "    <tr>\n",
       "      <th>min</th>\n",
       "      <td>0.000000</td>\n",
       "      <td>0.000000</td>\n",
       "      <td>0.000000</td>\n",
       "      <td>0.000000</td>\n",
       "      <td>0.000000e+00</td>\n",
       "      <td>0.000000</td>\n",
       "      <td>0.000000</td>\n",
       "      <td>NaN</td>\n",
       "      <td>0.000000</td>\n",
       "      <td>0.000000e+00</td>\n",
       "      <td>...</td>\n",
       "      <td>0.000000e+00</td>\n",
       "      <td>0.000000</td>\n",
       "      <td>NaN</td>\n",
       "      <td>0.000000</td>\n",
       "      <td>0.00000</td>\n",
       "      <td>-6.420000</td>\n",
       "      <td>6.000000</td>\n",
       "      <td>0.000000</td>\n",
       "      <td>NaN</td>\n",
       "      <td>NaN</td>\n",
       "    </tr>\n",
       "    <tr>\n",
       "      <th>25%</th>\n",
       "      <td>0.000000</td>\n",
       "      <td>0.000000</td>\n",
       "      <td>0.000000</td>\n",
       "      <td>0.000000</td>\n",
       "      <td>0.000000e+00</td>\n",
       "      <td>518.000000</td>\n",
       "      <td>0.000000</td>\n",
       "      <td>NaN</td>\n",
       "      <td>4.000000</td>\n",
       "      <td>0.000000e+00</td>\n",
       "      <td>...</td>\n",
       "      <td>0.000000e+00</td>\n",
       "      <td>0.000000</td>\n",
       "      <td>NaN</td>\n",
       "      <td>0.000000</td>\n",
       "      <td>0.00000</td>\n",
       "      <td>19.380000</td>\n",
       "      <td>204.000000</td>\n",
       "      <td>2419.965000</td>\n",
       "      <td>NaN</td>\n",
       "      <td>NaN</td>\n",
       "    </tr>\n",
       "    <tr>\n",
       "      <th>50%</th>\n",
       "      <td>0.000000</td>\n",
       "      <td>0.000000</td>\n",
       "      <td>0.000000</td>\n",
       "      <td>0.000000</td>\n",
       "      <td>0.000000e+00</td>\n",
       "      <td>854.000000</td>\n",
       "      <td>7.000000</td>\n",
       "      <td>NaN</td>\n",
       "      <td>20.000000</td>\n",
       "      <td>0.000000e+00</td>\n",
       "      <td>...</td>\n",
       "      <td>0.000000e+00</td>\n",
       "      <td>0.000000</td>\n",
       "      <td>NaN</td>\n",
       "      <td>0.000000</td>\n",
       "      <td>4.00000</td>\n",
       "      <td>196.410000</td>\n",
       "      <td>270.000000</td>\n",
       "      <td>12612.240000</td>\n",
       "      <td>NaN</td>\n",
       "      <td>NaN</td>\n",
       "    </tr>\n",
       "    <tr>\n",
       "      <th>75%</th>\n",
       "      <td>16.000000</td>\n",
       "      <td>0.000000</td>\n",
       "      <td>0.000000</td>\n",
       "      <td>0.000000</td>\n",
       "      <td>1.172150e+05</td>\n",
       "      <td>1435.000000</td>\n",
       "      <td>7.000000</td>\n",
       "      <td>NaN</td>\n",
       "      <td>46.000000</td>\n",
       "      <td>2.419740e+05</td>\n",
       "      <td>...</td>\n",
       "      <td>4.260950e+04</td>\n",
       "      <td>8.000000</td>\n",
       "      <td>NaN</td>\n",
       "      <td>6.000000</td>\n",
       "      <td>14.00000</td>\n",
       "      <td>250.980000</td>\n",
       "      <td>330.000000</td>\n",
       "      <td>32209.560000</td>\n",
       "      <td>NaN</td>\n",
       "      <td>NaN</td>\n",
       "    </tr>\n",
       "    <tr>\n",
       "      <th>max</th>\n",
       "      <td>536.000000</td>\n",
       "      <td>5.000000</td>\n",
       "      <td>130668.000000</td>\n",
       "      <td>27.000000</td>\n",
       "      <td>6.048550e+06</td>\n",
       "      <td>131761.000000</td>\n",
       "      <td>35.000000</td>\n",
       "      <td>NaN</td>\n",
       "      <td>2300.000000</td>\n",
       "      <td>1.232559e+07</td>\n",
       "      <td>...</td>\n",
       "      <td>3.048400e+06</td>\n",
       "      <td>1000.000000</td>\n",
       "      <td>NaN</td>\n",
       "      <td>102.000000</td>\n",
       "      <td>910.00000</td>\n",
       "      <td>628.620000</td>\n",
       "      <td>642.000000</td>\n",
       "      <td>230427.000000</td>\n",
       "      <td>NaN</td>\n",
       "      <td>NaN</td>\n",
       "    </tr>\n",
       "  </tbody>\n",
       "</table>\n",
       "<p>8 rows × 192 columns</p>\n",
       "</div>"
      ],
      "text/plain": [
       "             Var1         Var2           Var3         Var4          Var5  \\\n",
       "count  570.000000  1006.000000    1005.000000  1275.000000  1.165000e+03   \n",
       "mean    11.003509     0.004970     429.328358     0.148235  2.490555e+05   \n",
       "std     34.952792     0.157642    4470.405915     1.396054  6.762021e+05   \n",
       "min      0.000000     0.000000       0.000000     0.000000  0.000000e+00   \n",
       "25%      0.000000     0.000000       0.000000     0.000000  0.000000e+00   \n",
       "50%      0.000000     0.000000       0.000000     0.000000  0.000000e+00   \n",
       "75%     16.000000     0.000000       0.000000     0.000000  1.172150e+05   \n",
       "max    536.000000     5.000000  130668.000000    27.000000  6.048550e+06   \n",
       "\n",
       "                Var6          Var7  Var8         Var9         Var10   ...    \\\n",
       "count   35565.000000  35560.000000   0.0   570.000000  1.165000e+03   ...     \n",
       "mean     1319.915394      6.792126   NaN    47.487719  3.813466e+05   ...     \n",
       "std      2609.955770      6.287285   NaN   147.137816  9.353348e+05   ...     \n",
       "min         0.000000      0.000000   NaN     0.000000  0.000000e+00   ...     \n",
       "25%       518.000000      0.000000   NaN     4.000000  0.000000e+00   ...     \n",
       "50%       854.000000      7.000000   NaN    20.000000  0.000000e+00   ...     \n",
       "75%      1435.000000      7.000000   NaN    46.000000  2.419740e+05   ...     \n",
       "max    131761.000000     35.000000   NaN  2300.000000  1.232559e+07   ...     \n",
       "\n",
       "             Var183       Var184  Var185      Var186     Var187       Var188  \\\n",
       "count  1.006000e+03  1006.000000     0.0  570.000000  570.00000  1006.000000   \n",
       "mean   8.067657e+04     7.419483     NaN    3.515789   16.05614   165.108310   \n",
       "std    2.141650e+05    34.642351     NaN    9.412473   54.96505   113.400173   \n",
       "min    0.000000e+00     0.000000     NaN    0.000000    0.00000    -6.420000   \n",
       "25%    0.000000e+00     0.000000     NaN    0.000000    0.00000    19.380000   \n",
       "50%    0.000000e+00     0.000000     NaN    0.000000    4.00000   196.410000   \n",
       "75%    4.260950e+04     8.000000     NaN    6.000000   14.00000   250.980000   \n",
       "max    3.048400e+06  1000.000000     NaN  102.000000  910.00000   628.620000   \n",
       "\n",
       "             Var189         Var190  Var209  Var230  \n",
       "count  16785.000000     266.000000     0.0     0.0  \n",
       "mean     270.585523   22637.159019     NaN     NaN  \n",
       "std       86.723561   30843.320634     NaN     NaN  \n",
       "min        6.000000       0.000000     NaN     NaN  \n",
       "25%      204.000000    2419.965000     NaN     NaN  \n",
       "50%      270.000000   12612.240000     NaN     NaN  \n",
       "75%      330.000000   32209.560000     NaN     NaN  \n",
       "max      642.000000  230427.000000     NaN     NaN  \n",
       "\n",
       "[8 rows x 192 columns]"
      ]
     },
     "execution_count": 6,
     "metadata": {},
     "output_type": "execute_result"
    }
   ],
   "source": [
    "data.describe()"
   ]
  },
  {
   "cell_type": "code",
   "execution_count": 7,
   "metadata": {},
   "outputs": [
    {
     "data": {
      "text/html": [
       "<div>\n",
       "<style scoped>\n",
       "    .dataframe tbody tr th:only-of-type {\n",
       "        vertical-align: middle;\n",
       "    }\n",
       "\n",
       "    .dataframe tbody tr th {\n",
       "        vertical-align: top;\n",
       "    }\n",
       "\n",
       "    .dataframe thead th {\n",
       "        text-align: right;\n",
       "    }\n",
       "</style>\n",
       "<table border=\"1\" class=\"dataframe\">\n",
       "  <thead>\n",
       "    <tr style=\"text-align: right;\">\n",
       "      <th></th>\n",
       "      <th>0</th>\n",
       "    </tr>\n",
       "  </thead>\n",
       "  <tbody>\n",
       "    <tr>\n",
       "      <th>0</th>\n",
       "      <td>-1</td>\n",
       "    </tr>\n",
       "    <tr>\n",
       "      <th>1</th>\n",
       "      <td>-1</td>\n",
       "    </tr>\n",
       "    <tr>\n",
       "      <th>2</th>\n",
       "      <td>-1</td>\n",
       "    </tr>\n",
       "    <tr>\n",
       "      <th>3</th>\n",
       "      <td>1</td>\n",
       "    </tr>\n",
       "    <tr>\n",
       "      <th>4</th>\n",
       "      <td>-1</td>\n",
       "    </tr>\n",
       "  </tbody>\n",
       "</table>\n",
       "</div>"
      ],
      "text/plain": [
       "   0\n",
       "0 -1\n",
       "1 -1\n",
       "2 -1\n",
       "3  1\n",
       "4 -1"
      ]
     },
     "execution_count": 7,
     "metadata": {},
     "output_type": "execute_result"
    }
   ],
   "source": [
    "labels.head(5)"
   ]
  },
  {
   "cell_type": "markdown",
   "metadata": {},
   "source": [
    "For further analysis and selection of metrics, it is desirable to understand what part of the entire dataset the classes \"churn\" and \"non-churn\" constitute."
   ]
  },
  {
   "cell_type": "code",
   "execution_count": 8,
   "metadata": {},
   "outputs": [
    {
     "name": "stdout",
     "output_type": "stream",
     "text": [
      "2976 / 37024\n"
     ]
    }
   ],
   "source": [
    "print (len(labels[labels.values == 1]),'/', len(labels[labels.values == -1]))"
   ]
  },
  {
   "cell_type": "code",
   "execution_count": 9,
   "metadata": {
    "collapsed": true
   },
   "outputs": [],
   "source": [
    "data_full = data\n",
    "data_full['target'] = labels"
   ]
  },
  {
   "cell_type": "code",
   "execution_count": 10,
   "metadata": {},
   "outputs": [
    {
     "data": {
      "text/html": [
       "<div>\n",
       "<style scoped>\n",
       "    .dataframe tbody tr th:only-of-type {\n",
       "        vertical-align: middle;\n",
       "    }\n",
       "\n",
       "    .dataframe tbody tr th {\n",
       "        vertical-align: top;\n",
       "    }\n",
       "\n",
       "    .dataframe thead th {\n",
       "        text-align: right;\n",
       "    }\n",
       "</style>\n",
       "<table border=\"1\" class=\"dataframe\">\n",
       "  <thead>\n",
       "    <tr style=\"text-align: right;\">\n",
       "      <th></th>\n",
       "      <th>Var1</th>\n",
       "      <th>Var2</th>\n",
       "      <th>Var3</th>\n",
       "      <th>Var4</th>\n",
       "      <th>Var5</th>\n",
       "      <th>Var6</th>\n",
       "      <th>Var7</th>\n",
       "      <th>Var8</th>\n",
       "      <th>Var9</th>\n",
       "      <th>Var10</th>\n",
       "      <th>...</th>\n",
       "      <th>Var222</th>\n",
       "      <th>Var223</th>\n",
       "      <th>Var224</th>\n",
       "      <th>Var225</th>\n",
       "      <th>Var226</th>\n",
       "      <th>Var227</th>\n",
       "      <th>Var228</th>\n",
       "      <th>Var229</th>\n",
       "      <th>Var230</th>\n",
       "      <th>target</th>\n",
       "    </tr>\n",
       "  </thead>\n",
       "  <tbody>\n",
       "    <tr>\n",
       "      <th>0</th>\n",
       "      <td>NaN</td>\n",
       "      <td>NaN</td>\n",
       "      <td>NaN</td>\n",
       "      <td>NaN</td>\n",
       "      <td>NaN</td>\n",
       "      <td>3052.0</td>\n",
       "      <td>NaN</td>\n",
       "      <td>NaN</td>\n",
       "      <td>NaN</td>\n",
       "      <td>NaN</td>\n",
       "      <td>...</td>\n",
       "      <td>vr93T2a</td>\n",
       "      <td>LM8l689qOp</td>\n",
       "      <td>NaN</td>\n",
       "      <td>NaN</td>\n",
       "      <td>fKCe</td>\n",
       "      <td>02N6s8f</td>\n",
       "      <td>xwM2aC7IdeMC0</td>\n",
       "      <td>NaN</td>\n",
       "      <td>NaN</td>\n",
       "      <td>-1</td>\n",
       "    </tr>\n",
       "    <tr>\n",
       "      <th>1</th>\n",
       "      <td>NaN</td>\n",
       "      <td>NaN</td>\n",
       "      <td>NaN</td>\n",
       "      <td>NaN</td>\n",
       "      <td>NaN</td>\n",
       "      <td>1813.0</td>\n",
       "      <td>7.0</td>\n",
       "      <td>NaN</td>\n",
       "      <td>NaN</td>\n",
       "      <td>NaN</td>\n",
       "      <td>...</td>\n",
       "      <td>6hQ9lNX</td>\n",
       "      <td>LM8l689qOp</td>\n",
       "      <td>NaN</td>\n",
       "      <td>ELof</td>\n",
       "      <td>xb3V</td>\n",
       "      <td>RAYp</td>\n",
       "      <td>55YFVY9</td>\n",
       "      <td>mj86</td>\n",
       "      <td>NaN</td>\n",
       "      <td>-1</td>\n",
       "    </tr>\n",
       "    <tr>\n",
       "      <th>2</th>\n",
       "      <td>NaN</td>\n",
       "      <td>NaN</td>\n",
       "      <td>NaN</td>\n",
       "      <td>NaN</td>\n",
       "      <td>NaN</td>\n",
       "      <td>1953.0</td>\n",
       "      <td>7.0</td>\n",
       "      <td>NaN</td>\n",
       "      <td>NaN</td>\n",
       "      <td>NaN</td>\n",
       "      <td>...</td>\n",
       "      <td>catzS2D</td>\n",
       "      <td>LM8l689qOp</td>\n",
       "      <td>NaN</td>\n",
       "      <td>NaN</td>\n",
       "      <td>FSa2</td>\n",
       "      <td>ZI9m</td>\n",
       "      <td>ib5G6X1eUxUn6</td>\n",
       "      <td>mj86</td>\n",
       "      <td>NaN</td>\n",
       "      <td>-1</td>\n",
       "    </tr>\n",
       "    <tr>\n",
       "      <th>3</th>\n",
       "      <td>NaN</td>\n",
       "      <td>NaN</td>\n",
       "      <td>NaN</td>\n",
       "      <td>NaN</td>\n",
       "      <td>NaN</td>\n",
       "      <td>1533.0</td>\n",
       "      <td>7.0</td>\n",
       "      <td>NaN</td>\n",
       "      <td>NaN</td>\n",
       "      <td>NaN</td>\n",
       "      <td>...</td>\n",
       "      <td>e4lqvY0</td>\n",
       "      <td>LM8l689qOp</td>\n",
       "      <td>NaN</td>\n",
       "      <td>NaN</td>\n",
       "      <td>xb3V</td>\n",
       "      <td>RAYp</td>\n",
       "      <td>F2FyR07IdsN7I</td>\n",
       "      <td>NaN</td>\n",
       "      <td>NaN</td>\n",
       "      <td>1</td>\n",
       "    </tr>\n",
       "    <tr>\n",
       "      <th>4</th>\n",
       "      <td>NaN</td>\n",
       "      <td>NaN</td>\n",
       "      <td>NaN</td>\n",
       "      <td>NaN</td>\n",
       "      <td>NaN</td>\n",
       "      <td>686.0</td>\n",
       "      <td>7.0</td>\n",
       "      <td>NaN</td>\n",
       "      <td>NaN</td>\n",
       "      <td>NaN</td>\n",
       "      <td>...</td>\n",
       "      <td>MAz3HNj</td>\n",
       "      <td>LM8l689qOp</td>\n",
       "      <td>NaN</td>\n",
       "      <td>NaN</td>\n",
       "      <td>WqMG</td>\n",
       "      <td>RAYp</td>\n",
       "      <td>F2FyR07IdsN7I</td>\n",
       "      <td>NaN</td>\n",
       "      <td>NaN</td>\n",
       "      <td>-1</td>\n",
       "    </tr>\n",
       "  </tbody>\n",
       "</table>\n",
       "<p>5 rows × 231 columns</p>\n",
       "</div>"
      ],
      "text/plain": [
       "   Var1  Var2  Var3  Var4  Var5    Var6  Var7  Var8  Var9  Var10   ...    \\\n",
       "0   NaN   NaN   NaN   NaN   NaN  3052.0   NaN   NaN   NaN    NaN   ...     \n",
       "1   NaN   NaN   NaN   NaN   NaN  1813.0   7.0   NaN   NaN    NaN   ...     \n",
       "2   NaN   NaN   NaN   NaN   NaN  1953.0   7.0   NaN   NaN    NaN   ...     \n",
       "3   NaN   NaN   NaN   NaN   NaN  1533.0   7.0   NaN   NaN    NaN   ...     \n",
       "4   NaN   NaN   NaN   NaN   NaN   686.0   7.0   NaN   NaN    NaN   ...     \n",
       "\n",
       "    Var222      Var223  Var224  Var225  Var226   Var227         Var228  \\\n",
       "0  vr93T2a  LM8l689qOp     NaN     NaN    fKCe  02N6s8f  xwM2aC7IdeMC0   \n",
       "1  6hQ9lNX  LM8l689qOp     NaN    ELof    xb3V     RAYp        55YFVY9   \n",
       "2  catzS2D  LM8l689qOp     NaN     NaN    FSa2     ZI9m  ib5G6X1eUxUn6   \n",
       "3  e4lqvY0  LM8l689qOp     NaN     NaN    xb3V     RAYp  F2FyR07IdsN7I   \n",
       "4  MAz3HNj  LM8l689qOp     NaN     NaN    WqMG     RAYp  F2FyR07IdsN7I   \n",
       "\n",
       "   Var229  Var230  target  \n",
       "0     NaN     NaN      -1  \n",
       "1    mj86     NaN      -1  \n",
       "2    mj86     NaN      -1  \n",
       "3     NaN     NaN       1  \n",
       "4     NaN     NaN      -1  \n",
       "\n",
       "[5 rows x 231 columns]"
      ]
     },
     "execution_count": 10,
     "metadata": {},
     "output_type": "execute_result"
    }
   ],
   "source": [
    "data_full.head()"
   ]
  },
  {
   "cell_type": "code",
   "execution_count": 11,
   "metadata": {
    "collapsed": true
   },
   "outputs": [],
   "source": [
    "data_full = data_full.fillna(0)"
   ]
  },
  {
   "cell_type": "code",
   "execution_count": 12,
   "metadata": {
    "collapsed": true
   },
   "outputs": [],
   "source": [
    "from sklearn.preprocessing import LabelEncoder"
   ]
  },
  {
   "cell_type": "markdown",
   "metadata": {},
   "source": [
    "Let's encode categorical variables"
   ]
  },
  {
   "cell_type": "code",
   "execution_count": 13,
   "metadata": {},
   "outputs": [
    {
     "name": "stdout",
     "output_type": "stream",
     "text": [
      "[0 0 0 ... 0 0 0]\n",
      "[160 169 115 ...  88 241 158]\n",
      "[ 5  0 17 ... 25 25 25]\n",
      "[0 0 0 ... 0 0 0]\n",
      "[22 22 22 ... 22 22 22]\n",
      "[0 0 0 ... 0 0 0]\n",
      "[  1 127 111 ...  18  18 172]\n",
      "[1961  743 2693 ...  929 2751 2141]\n",
      "[1236 3521 3463 ... 1516 2825 1346]\n",
      "[   0 3020    0 ... 9417    0    0]\n",
      "[0 0 0 ... 0 0 0]\n",
      "[1384 1776 3589 ... 3394  670   89]\n",
      "[1 1 1 ... 1 1 1]\n",
      "[79 28 83 ... 36 13 43]\n",
      "[1 2 2 ... 1 2 2]\n",
      "[ 7 12 11 ...  4 21 21]\n",
      "[ 7 10  4 ... 10 10 10]\n",
      "[1 1 1 ... 1 1 1]\n",
      "[0 0 0 ... 0 0 0]\n",
      "[5 5 5 ... 5 5 5]\n",
      "[0 0 0 ... 0 0 1]\n",
      "[27 43  5 ... 43 32 32]\n",
      "[0 0 0 ... 0 0 0]\n",
      "[   0 3922    0 ... 7112    0    0]\n",
      "[0 0 0 ... 0 0 0]\n",
      "[ 667  733 1470 ...  712 1185  114]\n",
      "[ 4141 10558 10555 ...  3915  8364  4180]\n",
      "[2 2 1 ... 2 2 1]\n",
      "[12 12 12 ... 12 12 12]\n",
      "[2855 2864  328 ...  752 1787 1905]\n",
      "[0 4 6 ... 4 4 4]\n",
      "[3696  347 2498 ... 3305 2037 1728]\n",
      "[1 1 1 ... 1 1 1]\n",
      "[0 0 0 ... 0 0 0]\n",
      "[0 1 0 ... 1 0 0]\n",
      "[14 22  7 ... 12 20  7]\n",
      "[0 2 3 ... 2 2 2]\n",
      "[29  2 25 ...  8  8  8]\n",
      "[0 2 2 ... 1 0 0]\n",
      "[0 0 0 ... 0 0 0]\n"
     ]
    }
   ],
   "source": [
    "label_encoder = LabelEncoder()\n",
    "for i in range(40):\n",
    "    integer_encoded = label_encoder.fit_transform(data_full[data_full.columns[190 + i]].values.astype(str))\n",
    "    for j in range(len(data_full)):\n",
    "        if type(data_full[data_full.columns[190 + i]].values[j]) == str:\n",
    "            data_full[data_full.columns[190 + i]].values[j] = integer_encoded[j]\n",
    "    print(integer_encoded)"
   ]
  },
  {
   "cell_type": "code",
   "execution_count": 15,
   "metadata": {
    "collapsed": true
   },
   "outputs": [],
   "source": [
    "data_full = data_full.apply(pd.to_numeric)"
   ]
  },
  {
   "cell_type": "markdown",
   "metadata": {},
   "source": [
    "Let's visualize distributions by class of our data"
   ]
  },
  {
   "cell_type": "code",
   "execution_count": 22,
   "metadata": {},
   "outputs": [
    {
     "data": {
      "image/png": "[encoded data removed]",
      "text/plain": [
       "<matplotlib.figure.Figure at 0x20e5ecf2240>"
      ]
     },
     "metadata": {},
     "output_type": "display_data"
    },
    {
     "data": {
      "image/png": "[encoded data removed]",
      "text/plain": [
       "<matplotlib.figure.Figure at 0x20e5ed8e400>"
      ]
     },
     "metadata": {},
     "output_type": "display_data"
    },
    {
     "data": {
      "image/png": "[encoded data removed]",
      "text/plain": [
       "<matplotlib.figure.Figure at 0x20e5ee17128>"
      ]
     },
     "metadata": {},
     "output_type": "display_data"
    }
   ],
   "source": [
    "for i in data_full.sample(n=3, axis=1).columns:\n",
    "    data_full[str(i)].hist(by=data_full['target'], bins=15)"
   ]
  },
  {
   "cell_type": "markdown",
   "metadata": {},
   "source": [
    "It seems that our data is unbalanced. Therefore, we need to use cross-validation to estimate the quality of our model."
   ]
  },
  {
   "cell_type": "code",
   "execution_count": 23,
   "metadata": {
    "collapsed": true
   },
   "outputs": [],
   "source": [
    "del data_full['target']"
   ]
  },
  {
   "cell_type": "code",
   "execution_count": 24,
   "metadata": {
    "collapsed": true
   },
   "outputs": [],
   "source": [
    "from sklearn.utils import shuffle\n",
    "from sklearn import model_selection"
   ]
  },
  {
   "cell_type": "markdown",
   "metadata": {},
   "source": [
    "Firstly, we need to shuffle our data to avoid effect of label ordering in our dataset"
   ]
  },
  {
   "cell_type": "code",
   "execution_count": 25,
   "metadata": {
    "collapsed": true
   },
   "outputs": [],
   "source": [
    "churn_data_shuffled = shuffle(data_full, random_state=123)\n",
    "churn_labels_shuffled = shuffle(labels, random_state=123)"
   ]
  },
  {
   "cell_type": "code",
   "execution_count": 26,
   "metadata": {
    "collapsed": true
   },
   "outputs": [],
   "source": [
    "train_data, test_data, train_labels, test_labels = model_selection.train_test_split(churn_data_shuffled, churn_labels_shuffled, \n",
    "                                                                                     test_size = 0.3)"
   ]
  },
  {
   "cell_type": "code",
   "execution_count": 27,
   "metadata": {},
   "outputs": [
    {
     "name": "stderr",
     "output_type": "stream",
     "text": [
      "c:\\programdata\\anaconda3\\envs\\test\\lib\\site-packages\\sklearn\\cross_validation.py:41: DeprecationWarning: This module was deprecated in version 0.18 in favor of the model_selection module into which all the refactored classes and functions are moved. Also note that the interface of the new CV iterators are different from that of this module. This module will be removed in 0.20.\n",
      "  \"This module will be removed in 0.20.\", DeprecationWarning)\n"
     ]
    }
   ],
   "source": [
    "from sklearn.linear_model import RidgeClassifier\n",
    "from sklearn.ensemble import RandomForestClassifier\n",
    "from sklearn.ensemble import GradientBoostingClassifier\n",
    "from sklearn import cross_validation, metrics"
   ]
  },
  {
   "cell_type": "markdown",
   "metadata": {},
   "source": [
    "# Ridge"
   ]
  },
  {
   "cell_type": "code",
   "execution_count": 28,
   "metadata": {},
   "outputs": [
    {
     "name": "stderr",
     "output_type": "stream",
     "text": [
      "c:\\programdata\\anaconda3\\envs\\test\\lib\\site-packages\\scipy\\linalg\\basic.py:40: RuntimeWarning: scipy.linalg.solve\n",
      "Ill-conditioned matrix detected. Result is not guaranteed to be accurate.\n",
      "Reciprocal condition number/precision: 4.364831265189639e-19 / 1.1102230246251565e-16\n",
      "  RuntimeWarning)\n"
     ]
    }
   ],
   "source": [
    "ridge_classifier = RidgeClassifier(random_state = 1)\n",
    "ridge_classifier.fit(train_data, train_labels.values.ravel())\n",
    "ridge_predictions = ridge_classifier.predict(test_data)"
   ]
  },
  {
   "cell_type": "code",
   "execution_count": 29,
   "metadata": {},
   "outputs": [
    {
     "data": {
      "text/plain": [
       "array([[-8.34146640e-03, -5.63221761e-02,  1.42092478e-06,\n",
       "        -7.37052011e-03, -2.56119768e-08, -1.64349929e-06,\n",
       "        -2.07194543e-03,  0.00000000e+00, -5.36116931e-03,\n",
       "         2.24407319e-09, -8.42890261e-03,  1.33601057e-03,\n",
       "         6.32831685e-07, -5.91381270e-03,  0.00000000e+00,\n",
       "        -3.68235205e-05,  1.52040988e-02, -1.22013985e-02,\n",
       "         1.96886404e-02,  0.00000000e+00, -2.43685118e-05,\n",
       "        -1.97755769e-05, -5.39761560e-05,  3.57783720e-04,\n",
       "         1.58036704e-05,  1.58331428e-02, -2.59196541e-02,\n",
       "         3.33173544e-05,  4.33678335e-02,  4.33616437e-03,\n",
       "         0.00000000e+00,  0.00000000e+00, -1.60788569e-08,\n",
       "         6.35996157e-03, -1.00329932e-02,  8.55598663e-09,\n",
       "        -1.45198362e-08, -2.51631689e-09,  0.00000000e+00,\n",
       "         1.36135067e-03,  5.95908089e-03,  0.00000000e+00,\n",
       "        -5.10120441e-03, -6.52400385e-03,  8.14875273e-07,\n",
       "         5.12646070e-04, -1.06684570e-03,  0.00000000e+00,\n",
       "         5.26870355e-03, -9.78500497e-05, -7.13083280e-08,\n",
       "         0.00000000e+00,  2.13754090e-08,  7.70817247e-03,\n",
       "         0.00000000e+00, -2.23834181e-08, -1.02118230e-03,\n",
       "         1.12000847e-08, -8.44307583e-09, -4.71015253e-04,\n",
       "        -1.84394022e-04, -1.24665489e-04,  1.62254871e-02,\n",
       "        -9.17924003e-07,  7.32205162e-04, -1.44365588e-03,\n",
       "        -6.58877321e-03,  6.90560988e-05, -5.91877633e-09,\n",
       "         1.84368077e-08,  6.33253042e-05, -2.68090400e-03,\n",
       "        -6.38472900e-04, -2.46668501e-05, -1.46965013e-02,\n",
       "        -4.95796711e-10, -8.01897905e-03, -1.60368879e-02,\n",
       "         0.00000000e+00, -5.37231086e-08,  7.02930443e-08,\n",
       "        -6.82292168e-03,  1.43131925e-04,  7.14123734e-05,\n",
       "        -7.83252090e-05, -4.79790794e-08, -2.40436013e-03,\n",
       "         7.12649428e-04, -2.82802522e-03, -1.87640609e-02,\n",
       "         4.22161316e-05,  8.17671211e-08, -3.85167860e-02,\n",
       "        -3.52604732e-08, -5.74398419e-09, -1.38767193e-03,\n",
       "         7.86827791e-03,  2.22590046e-07,  1.00179713e-02,\n",
       "        -5.64088125e-03, -1.51608832e-03,  1.37675435e-06,\n",
       "         6.57206193e-04,  1.36072244e-04,  9.07148477e-05,\n",
       "        -6.54651630e-09, -3.27127799e-04, -3.90602300e-08,\n",
       "        -7.38453730e-05, -1.00427487e-02,  9.33122656e-08,\n",
       "         1.07462126e-04,  3.26772158e-08, -4.46076497e-08,\n",
       "        -1.62313106e-03, -4.92352767e-02, -1.36162729e-08,\n",
       "         5.30588616e-02,  1.49646799e-06,  5.14470118e-04,\n",
       "        -3.12394158e-02,  1.45306569e-02,  4.68037498e-05,\n",
       "        -4.07638255e-09, -1.68257650e-08,  1.29803791e-03,\n",
       "         1.82765657e-02,  9.97711637e-04,  1.22900420e-02,\n",
       "         6.89302523e-04,  3.24718369e-09,  6.53555288e-03,\n",
       "        -3.15041126e-09,  8.66419935e-09, -3.37291118e-04,\n",
       "        -1.82314044e-07,  4.54317644e-04,  0.00000000e+00,\n",
       "         1.07812700e-07, -1.44270989e-07,  0.00000000e+00,\n",
       "        -4.10086306e-03,  5.05909551e-04,  7.61068598e-04,\n",
       "        -1.48427509e-02,  2.45049921e-03,  1.37400563e-02,\n",
       "        -4.77030606e-04,  5.27819911e-09,  8.28768144e-08,\n",
       "         7.83131458e-04, -2.49758072e-03, -1.03783347e-10,\n",
       "        -8.11722583e-09, -1.30544525e-04, -2.52639648e-03,\n",
       "         1.06428211e-03,  9.49452116e-03,  7.60453773e-03,\n",
       "        -3.32557485e-05,  4.63925371e-03,  3.00611304e-08,\n",
       "        -4.31981521e-09, -2.24375982e-02, -4.53031603e-08,\n",
       "         2.63077717e-04,  0.00000000e+00, -5.70811103e-04,\n",
       "         0.00000000e+00,  1.42727726e-03, -1.39229960e-08,\n",
       "        -3.58503037e-03,  1.97037303e-02,  1.94486555e-02,\n",
       "         0.00000000e+00, -2.51499442e-03, -1.64070144e-08,\n",
       "         1.45343493e-03, -1.05812746e-02,  9.79910673e-09,\n",
       "        -7.29485424e-03, -8.87627900e-10,  4.63087806e-09,\n",
       "         3.79941037e-03,  0.00000000e+00, -3.45014778e-03,\n",
       "         1.66439698e-02, -3.32236976e-04, -1.14938583e-04,\n",
       "        -1.64542029e-07,  5.27340904e-02, -3.79397038e-05,\n",
       "         7.62460269e-04, -5.23962001e-02,  1.68412437e-03,\n",
       "         3.02658238e-02, -2.75897168e-05,  3.08546417e-07,\n",
       "        -1.36265877e-06,  1.22069186e-07,  4.37813017e-02,\n",
       "         1.62440813e-07, -1.83684656e-02, -1.72275287e-04,\n",
       "         2.94331723e-02,  2.39179030e-04,  4.16023134e-03,\n",
       "         5.87164181e-02,  0.00000000e+00, -2.70018130e-02,\n",
       "        -2.13934759e-02,  3.83300378e-04, -3.66514348e-03,\n",
       "         8.78187088e-07,  2.72872015e-01, -9.33224883e-07,\n",
       "        -1.10537124e-06, -6.83258165e-02,  1.25431298e-03,\n",
       "        -1.04326923e-06,  1.79306846e-03,  2.89533260e-06,\n",
       "        -2.82675224e-03,  1.30028683e-01,  2.30205533e-03,\n",
       "        -1.57503245e-04, -1.22214719e-03, -2.60766355e-04,\n",
       "        -1.73779788e-02,  0.00000000e+00]])"
      ]
     },
     "execution_count": 29,
     "metadata": {},
     "output_type": "execute_result"
    }
   ],
   "source": [
    "ridge_classifier.coef_"
   ]
  },
  {
   "cell_type": "code",
   "execution_count": 30,
   "metadata": {},
   "outputs": [
    {
     "name": "stdout",
     "output_type": "stream",
     "text": [
      "[-1 -1 -1 ...  1 -1 -1]\n"
     ]
    }
   ],
   "source": [
    "print(test_labels.values.ravel())"
   ]
  },
  {
   "cell_type": "code",
   "execution_count": 31,
   "metadata": {},
   "outputs": [
    {
     "name": "stdout",
     "output_type": "stream",
     "text": [
      "[-1 -1 -1 ... -1 -1 -1]\n"
     ]
    }
   ],
   "source": [
    "print(ridge_predictions)"
   ]
  },
  {
   "cell_type": "code",
   "execution_count": 32,
   "metadata": {},
   "outputs": [
    {
     "data": {
      "text/plain": [
       "array([-0.71742046])"
      ]
     },
     "execution_count": 32,
     "metadata": {},
     "output_type": "execute_result"
    }
   ],
   "source": [
    "ridge_classifier.intercept_ "
   ]
  },
  {
   "cell_type": "markdown",
   "metadata": {},
   "source": [
    "Next we will test different metrics for ridge classifier"
   ]
  },
  {
   "cell_type": "markdown",
   "metadata": {},
   "source": [
    "## ROC AUC"
   ]
  },
  {
   "cell_type": "code",
   "execution_count": 33,
   "metadata": {},
   "outputs": [
    {
     "data": {
      "text/plain": [
       "0.4999096086052608"
      ]
     },
     "execution_count": 33,
     "metadata": {},
     "output_type": "execute_result"
    }
   ],
   "source": [
    "metrics.roc_auc_score(test_labels, ridge_predictions)"
   ]
  },
  {
   "cell_type": "markdown",
   "metadata": {},
   "source": [
    "## Precision"
   ]
  },
  {
   "cell_type": "code",
   "execution_count": 34,
   "metadata": {},
   "outputs": [
    {
     "data": {
      "text/plain": [
       "0.9219036506084347"
      ]
     },
     "execution_count": 34,
     "metadata": {},
     "output_type": "execute_result"
    }
   ],
   "source": [
    "metrics.precision_score(test_labels, ridge_predictions, pos_label = -1)"
   ]
  },
  {
   "cell_type": "code",
   "execution_count": 35,
   "metadata": {},
   "outputs": [
    {
     "data": {
      "text/plain": [
       "0.0"
      ]
     },
     "execution_count": 35,
     "metadata": {},
     "output_type": "execute_result"
    }
   ],
   "source": [
    "metrics.precision_score(test_labels, ridge_predictions)"
   ]
  },
  {
   "cell_type": "markdown",
   "metadata": {},
   "source": [
    "## Recall"
   ]
  },
  {
   "cell_type": "code",
   "execution_count": 36,
   "metadata": {},
   "outputs": [
    {
     "data": {
      "text/plain": [
       "0.9998192172105216"
      ]
     },
     "execution_count": 36,
     "metadata": {},
     "output_type": "execute_result"
    }
   ],
   "source": [
    "metrics.recall_score(test_labels, ridge_predictions, pos_label = -1)"
   ]
  },
  {
   "cell_type": "code",
   "execution_count": 37,
   "metadata": {},
   "outputs": [
    {
     "data": {
      "text/plain": [
       "0.0"
      ]
     },
     "execution_count": 37,
     "metadata": {},
     "output_type": "execute_result"
    }
   ],
   "source": [
    "metrics.recall_score(test_labels, ridge_predictions)"
   ]
  },
  {
   "cell_type": "markdown",
   "metadata": {},
   "source": [
    "Let's estimate the quality of ridge classifier predictions using cross validation with roc-auc score.  \n",
    "We will use StratifiedKFold as a cross validation strategy because of unbalanced classes of target variable values.  \n",
    "Our dataset is large so we chose the number of folds = 4 in order to fit the model more or less quickly."
   ]
  },
  {
   "cell_type": "markdown",
   "metadata": {},
   "source": [
    "## cross validation"
   ]
  },
  {
   "cell_type": "code",
   "execution_count": 41,
   "metadata": {
    "collapsed": true
   },
   "outputs": [],
   "source": [
    "scorer = metrics.make_scorer(metrics.roc_auc_score)\n",
    "cv_strategy = cross_validation.StratifiedKFold(labels.values.ravel(), n_folds= 4)"
   ]
  },
  {
   "cell_type": "code",
   "execution_count": 42,
   "metadata": {},
   "outputs": [
    {
     "name": "stderr",
     "output_type": "stream",
     "text": [
      "c:\\programdata\\anaconda3\\envs\\test\\lib\\site-packages\\scipy\\linalg\\basic.py:40: RuntimeWarning: scipy.linalg.solve\n",
      "Ill-conditioned matrix detected. Result is not guaranteed to be accurate.\n",
      "Reciprocal condition number/precision: 4.0454165366718593e-19 / 1.1102230246251565e-16\n",
      "  RuntimeWarning)\n",
      "c:\\programdata\\anaconda3\\envs\\test\\lib\\site-packages\\scipy\\linalg\\basic.py:40: RuntimeWarning: scipy.linalg.solve\n",
      "Ill-conditioned matrix detected. Result is not guaranteed to be accurate.\n",
      "Reciprocal condition number/precision: 4.068156451352505e-19 / 1.1102230246251565e-16\n",
      "  RuntimeWarning)\n",
      "c:\\programdata\\anaconda3\\envs\\test\\lib\\site-packages\\scipy\\linalg\\basic.py:40: RuntimeWarning: scipy.linalg.solve\n",
      "Ill-conditioned matrix detected. Result is not guaranteed to be accurate.\n",
      "Reciprocal condition number/precision: 4.0558321296165823e-19 / 1.1102230246251565e-16\n",
      "  RuntimeWarning)\n",
      "c:\\programdata\\anaconda3\\envs\\test\\lib\\site-packages\\scipy\\linalg\\basic.py:40: RuntimeWarning: scipy.linalg.solve\n",
      "Ill-conditioned matrix detected. Result is not guaranteed to be accurate.\n",
      "Reciprocal condition number/precision: 4.0536758804025385e-19 / 1.1102230246251565e-16\n",
      "  RuntimeWarning)\n"
     ]
    }
   ],
   "source": [
    "ridge_scoring = cross_validation.cross_val_score(ridge_classifier, data_full, labels.values.ravel(), scoring = scorer, cv = cv_strategy)"
   ]
  },
  {
   "cell_type": "code",
   "execution_count": 43,
   "metadata": {},
   "outputs": [
    {
     "name": "stdout",
     "output_type": "stream",
     "text": [
      "Ridge mean:0.4998784572169404, max:0.49994598098530685, min:0.4998379429559205, std:4.479020082049092e-05\n"
     ]
    }
   ],
   "source": [
    "print('Ridge mean:{}, max:{}, min:{}, std:{}'.format(ridge_scoring.mean(), ridge_scoring.max(), \n",
    "                                                     ridge_scoring.min(), ridge_scoring.std()))"
   ]
  },
  {
   "cell_type": "markdown",
   "metadata": {},
   "source": [
    "Let's implement the same strategy for other models like Random Forest and Gradient Boosting"
   ]
  },
  {
   "cell_type": "markdown",
   "metadata": {},
   "source": [
    "# Random forest"
   ]
  },
  {
   "cell_type": "code",
   "execution_count": 44,
   "metadata": {
    "collapsed": true
   },
   "outputs": [],
   "source": [
    "rf_classifier = RandomForestClassifier(n_estimators = 50, max_depth = 10, random_state = 1)\n",
    "rf_classifier.fit(train_data, train_labels.values.ravel())\n",
    "rf_predictions = rf_classifier.predict(test_data)"
   ]
  },
  {
   "cell_type": "code",
   "execution_count": 45,
   "metadata": {},
   "outputs": [
    {
     "data": {
      "text/plain": [
       "0.5"
      ]
     },
     "execution_count": 45,
     "metadata": {},
     "output_type": "execute_result"
    }
   ],
   "source": [
    "metrics.roc_auc_score(test_labels, rf_predictions)"
   ]
  },
  {
   "cell_type": "code",
   "execution_count": 46,
   "metadata": {},
   "outputs": [
    {
     "data": {
      "text/plain": [
       "1.0"
      ]
     },
     "execution_count": 46,
     "metadata": {},
     "output_type": "execute_result"
    }
   ],
   "source": [
    "metrics.recall_score(test_labels, rf_predictions, pos_label = -1)"
   ]
  },
  {
   "cell_type": "code",
   "execution_count": 47,
   "metadata": {},
   "outputs": [
    {
     "data": {
      "text/plain": [
       "0.0"
      ]
     },
     "execution_count": 47,
     "metadata": {},
     "output_type": "execute_result"
    }
   ],
   "source": [
    "metrics.recall_score(test_labels, rf_predictions)"
   ]
  },
  {
   "cell_type": "code",
   "execution_count": 48,
   "metadata": {
    "collapsed": true
   },
   "outputs": [],
   "source": [
    "scorer = metrics.make_scorer(metrics.roc_auc_score)\n",
    "cv_strategy = cross_validation.StratifiedKFold(labels.values.ravel(), n_folds= 4)"
   ]
  },
  {
   "cell_type": "code",
   "execution_count": 49,
   "metadata": {
    "collapsed": true
   },
   "outputs": [],
   "source": [
    "rf_scoring = cross_validation.cross_val_score(rf_classifier, data_full, labels.values.ravel(), scoring = scorer, cv = cv_strategy)"
   ]
  },
  {
   "cell_type": "code",
   "execution_count": 50,
   "metadata": {},
   "outputs": [
    {
     "name": "stdout",
     "output_type": "stream",
     "text": [
      "Random forest mean:0.5, max:0.5, min:0.5, std:0.0\n"
     ]
    }
   ],
   "source": [
    "print('Random forest mean:{}, max:{}, min:{}, std:{}'.format(rf_scoring.mean(), rf_scoring.max(), \n",
    "                                                     rf_scoring.min(), rf_scoring.std()))"
   ]
  },
  {
   "cell_type": "markdown",
   "metadata": {},
   "source": [
    "# Gradient boosting"
   ]
  },
  {
   "cell_type": "code",
   "execution_count": 51,
   "metadata": {
    "collapsed": true
   },
   "outputs": [],
   "source": [
    "gb_classifier = GradientBoostingClassifier(n_estimators = 50, random_state = 1)\n",
    "gb_classifier.fit(train_data, train_labels.values.ravel())\n",
    "gb_predictions = gb_classifier.predict(test_data)"
   ]
  },
  {
   "cell_type": "code",
   "execution_count": 52,
   "metadata": {},
   "outputs": [
    {
     "data": {
      "text/plain": [
       "0.5042048842227254"
      ]
     },
     "execution_count": 52,
     "metadata": {},
     "output_type": "execute_result"
    }
   ],
   "source": [
    "metrics.roc_auc_score(test_labels, gb_predictions)"
   ]
  },
  {
   "cell_type": "code",
   "execution_count": 53,
   "metadata": {},
   "outputs": [
    {
     "data": {
      "text/plain": [
       "0.9268251981643721"
      ]
     },
     "execution_count": 53,
     "metadata": {},
     "output_type": "execute_result"
    }
   ],
   "source": [
    "metrics.precision_score(test_labels, gb_predictions, pos_label = -1)"
   ]
  },
  {
   "cell_type": "code",
   "execution_count": 54,
   "metadata": {},
   "outputs": [
    {
     "data": {
      "text/plain": [
       "0.5333333333333333"
      ]
     },
     "execution_count": 54,
     "metadata": {},
     "output_type": "execute_result"
    }
   ],
   "source": [
    "metrics.precision_score(test_labels, gb_predictions)"
   ]
  },
  {
   "cell_type": "code",
   "execution_count": 55,
   "metadata": {},
   "outputs": [
    {
     "data": {
      "text/plain": [
       "0.999370220422852"
      ]
     },
     "execution_count": 55,
     "metadata": {},
     "output_type": "execute_result"
    }
   ],
   "source": [
    "metrics.recall_score(test_labels, gb_predictions, pos_label = -1)"
   ]
  },
  {
   "cell_type": "code",
   "execution_count": 56,
   "metadata": {},
   "outputs": [
    {
     "data": {
      "text/plain": [
       "0.00903954802259887"
      ]
     },
     "execution_count": 56,
     "metadata": {},
     "output_type": "execute_result"
    }
   ],
   "source": [
    "metrics.recall_score(test_labels, gb_predictions)"
   ]
  },
  {
   "cell_type": "code",
   "execution_count": 57,
   "metadata": {
    "collapsed": true
   },
   "outputs": [],
   "source": [
    "scorer = metrics.make_scorer(metrics.roc_auc_score)\n",
    "cv_strategy = cross_validation.StratifiedKFold(labels.values.ravel(), n_folds= 4)"
   ]
  },
  {
   "cell_type": "code",
   "execution_count": 58,
   "metadata": {},
   "outputs": [
    {
     "name": "stderr",
     "output_type": "stream",
     "text": [
      "c:\\programdata\\anaconda3\\envs\\test\\lib\\site-packages\\sklearn\\utils\\validation.py:578: DataConversionWarning: A column-vector y was passed when a 1d array was expected. Please change the shape of y to (n_samples, ), for example using ravel().\n",
      "  y = column_or_1d(y, warn=True)\n",
      "c:\\programdata\\anaconda3\\envs\\test\\lib\\site-packages\\sklearn\\utils\\validation.py:578: DataConversionWarning: A column-vector y was passed when a 1d array was expected. Please change the shape of y to (n_samples, ), for example using ravel().\n",
      "  y = column_or_1d(y, warn=True)\n",
      "c:\\programdata\\anaconda3\\envs\\test\\lib\\site-packages\\sklearn\\utils\\validation.py:578: DataConversionWarning: A column-vector y was passed when a 1d array was expected. Please change the shape of y to (n_samples, ), for example using ravel().\n",
      "  y = column_or_1d(y, warn=True)\n",
      "c:\\programdata\\anaconda3\\envs\\test\\lib\\site-packages\\sklearn\\utils\\validation.py:578: DataConversionWarning: A column-vector y was passed when a 1d array was expected. Please change the shape of y to (n_samples, ), for example using ravel().\n",
      "  y = column_or_1d(y, warn=True)\n"
     ]
    }
   ],
   "source": [
    "gb_scoring = cross_validation.cross_val_score(gb_classifier, data_full, labels.values.ravel(), scoring = scorer, cv = cv_strategy)"
   ]
  },
  {
   "cell_type": "code",
   "execution_count": 59,
   "metadata": {},
   "outputs": [
    {
     "name": "stdout",
     "output_type": "stream",
     "text": [
      "Gradient boosting mean:0.504756722753506, max:0.5075783449967938, min:0.5023640579548517, std:0.0018563563286102696\n"
     ]
    }
   ],
   "source": [
    "print('Gradient boosting mean:{}, max:{}, min:{}, std:{}'.format(gb_scoring.mean(), gb_scoring.max(), \n",
    "                                                     gb_scoring.min(), gb_scoring.std()))"
   ]
  },
  {
   "cell_type": "markdown",
   "metadata": {},
   "source": [
    "# XGBoost\n",
    "Implementing xgboost model"
   ]
  },
  {
   "cell_type": "code",
   "execution_count": 41,
   "metadata": {
    "collapsed": true
   },
   "outputs": [],
   "source": [
    "import xgboost as xgb"
   ]
  },
  {
   "cell_type": "code",
   "execution_count": 42,
   "metadata": {},
   "outputs": [
    {
     "name": "stderr",
     "output_type": "stream",
     "text": [
      "c:\\programdata\\anaconda3\\envs\\test\\lib\\site-packages\\sklearn\\preprocessing\\label.py:151: DeprecationWarning: The truth value of an empty array is ambiguous. Returning False, but in future this will result in an error. Use `array.size > 0` to check that an array is not empty.\n",
      "  if diff:\n"
     ]
    }
   ],
   "source": [
    "xgb_classifier = xgb.XGBClassifier(learning_rate=0.05, max_delta_step=1, max_depth=3, min_child_weight=20, n_estimators=500, subsample=0.1) \n",
    "xgb_classifier.fit(train_data, train_labels.values.ravel(), eval_metric='auc')\n",
    "xgb_predictions = xgb_classifier.predict(test_data) \n",
    "xgb_predictions_proba = xgb_classifier.predict_proba(test_data).transpose()[1]"
   ]
  },
  {
   "cell_type": "code",
   "execution_count": 43,
   "metadata": {},
   "outputs": [
    {
     "data": {
      "text/plain": [
       "0.7298995150602964"
      ]
     },
     "execution_count": 43,
     "metadata": {},
     "output_type": "execute_result"
    }
   ],
   "source": [
    "metrics.roc_auc_score(test_labels, xgb_predictions_proba)"
   ]
  },
  {
   "cell_type": "markdown",
   "metadata": {},
   "source": [
    "We will improve xgb classifier"
   ]
  },
  {
   "cell_type": "markdown",
   "metadata": {},
   "source": [
    "# Fine-tuning model"
   ]
  },
  {
   "cell_type": "markdown",
   "metadata": {},
   "source": [
    "Let's estimate how many objects we really need to build a quality model. A sufficiently large sample is available for training and it may turn out that, starting from a certain point, the growth of the size of the training sample ceases to influence the quality of the model. Let's draw learning curves by training the model on samples of different sizes starting with a small number of objects in the training sample and gradually increasing its size with a certain step. Pay attention to sklearn.model_selection.learning_curve"
   ]
  },
  {
   "cell_type": "code",
   "execution_count": 40,
   "metadata": {
    "collapsed": true
   },
   "outputs": [],
   "source": [
    "from sklearn.model_selection import learning_curve"
   ]
  },
  {
   "cell_type": "code",
   "execution_count": 44,
   "metadata": {
    "collapsed": true
   },
   "outputs": [],
   "source": [
    "scorer = metrics.make_scorer(metrics.roc_auc_score)\n",
    "cv_strategy = cross_validation.StratifiedKFold(labels.values.ravel(), n_folds= 4)"
   ]
  },
  {
   "cell_type": "code",
   "execution_count": 45,
   "metadata": {
    "collapsed": true
   },
   "outputs": [],
   "source": [
    "train_sizes, train_scores, test_scores = learning_curve(xgb_classifier, data_full, \n",
    "                                                        labels.values.ravel(), train_sizes = np.linspace(0.1, 1.0, 6),\n",
    "                                                        cv=cv_strategy, scoring = 'roc_auc')\n",
    "train_scores_mean = np.mean(train_scores, axis=1)\n",
    "test_scores_mean = np.mean(test_scores, axis=1)"
   ]
  },
  {
   "cell_type": "code",
   "execution_count": 46,
   "metadata": {},
   "outputs": [
    {
     "data": {
      "text/plain": [
       "<matplotlib.legend.Legend at 0x20e5ee91cf8>"
      ]
     },
     "execution_count": 46,
     "metadata": {},
     "output_type": "execute_result"
    },
    {
     "data": {
      "image/png": "[encoded data removed]",
      "text/plain": [
       "<matplotlib.figure.Figure at 0x20e5d37ea90>"
      ]
     },
     "metadata": {},
     "output_type": "display_data"
    }
   ],
   "source": [
    "plt.figure()\n",
    "plt.title(\"Learning curve\")\n",
    "plt.xlabel(\"Sample size\")\n",
    "plt.ylabel(\"Quality\")\n",
    "\n",
    "plt.plot(train_sizes, train_scores_mean, 'o-', color=\"b\",\n",
    "    label=\"Train\")\n",
    "plt.plot(train_sizes, test_scores_mean, 'o-', color=\"r\",\n",
    "    label=\"Test\")\n",
    "plt.legend()"
   ]
  },
  {
   "cell_type": "markdown",
   "metadata": {},
   "source": [
    "## Result\n",
    "As the sample size grows, the quality grows in training and, on the test"
   ]
  },
  {
   "cell_type": "markdown",
   "metadata": {},
   "source": [
    "Often unbalanced by class, the samples lead to various problems when training models. Let's try differently to process the sample, play with the distribution of objects into classes and draw conclusions about how the ratio of classes affects the quality of the model."
   ]
  },
  {
   "cell_type": "code",
   "execution_count": 47,
   "metadata": {},
   "outputs": [
    {
     "name": "stdout",
     "output_type": "stream",
     "text": [
      "12.73222167729279\n"
     ]
    }
   ],
   "source": [
    "weight_ratio = float(len(train_labels[train_labels[0] == -1])) / float(len(train_labels[train_labels[0] == 1]))\n",
    "print(weight_ratio)"
   ]
  },
  {
   "cell_type": "code",
   "execution_count": 49,
   "metadata": {},
   "outputs": [
    {
     "name": "stderr",
     "output_type": "stream",
     "text": [
      "c:\\programdata\\anaconda3\\envs\\test\\lib\\site-packages\\sklearn\\preprocessing\\label.py:151: DeprecationWarning: The truth value of an empty array is ambiguous. Returning False, but in future this will result in an error. Use `array.size > 0` to check that an array is not empty.\n",
      "  if diff:\n"
     ]
    },
    {
     "name": "stdout",
     "output_type": "stream",
     "text": [
      "0.7192954082425568\n"
     ]
    }
   ],
   "source": [
    "w1 = np.array([1]*train_labels.shape[0])\n",
    "w1[train_labels[0] == -1] = 1\n",
    "w1[train_labels[0] == 1] = weight_ratio\n",
    "xgb_classifier.fit(train_data, train_labels.values.ravel(), sample_weight = w1, eval_metric='auc')\n",
    "xgb_predictions = xgb_classifier.predict(test_data) \n",
    "xgb_predictions_proba = xgb_classifier.predict_proba(test_data).transpose()[1]\n",
    "print(metrics.roc_auc_score(test_labels, xgb_predictions_proba))"
   ]
  },
  {
   "cell_type": "code",
   "execution_count": 50,
   "metadata": {},
   "outputs": [
    {
     "name": "stderr",
     "output_type": "stream",
     "text": [
      "c:\\programdata\\anaconda3\\envs\\test\\lib\\site-packages\\sklearn\\preprocessing\\label.py:151: DeprecationWarning: The truth value of an empty array is ambiguous. Returning False, but in future this will result in an error. Use `array.size > 0` to check that an array is not empty.\n",
      "  if diff:\n"
     ]
    },
    {
     "name": "stdout",
     "output_type": "stream",
     "text": [
      "0.7336477191704327\n"
     ]
    }
   ],
   "source": [
    "w1 = np.array([1]*train_labels.shape[0])\n",
    "w1[train_labels[0] == -1] = 10\n",
    "w1[train_labels[0] == 1] = 1\n",
    "xgb_classifier.fit(train_data, train_labels.values.ravel(), sample_weight = w1, eval_metric='auc')\n",
    "xgb_predictions = xgb_classifier.predict(test_data) \n",
    "xgb_predictions_proba = xgb_classifier.predict_proba(test_data).transpose()[1]\n",
    "print(metrics.roc_auc_score(test_labels, xgb_predictions_proba))"
   ]
  },
  {
   "cell_type": "code",
   "execution_count": 52,
   "metadata": {},
   "outputs": [
    {
     "name": "stderr",
     "output_type": "stream",
     "text": [
      "c:\\programdata\\anaconda3\\envs\\test\\lib\\site-packages\\sklearn\\preprocessing\\label.py:151: DeprecationWarning: The truth value of an empty array is ambiguous. Returning False, but in future this will result in an error. Use `array.size > 0` to check that an array is not empty.\n",
      "  if diff:\n"
     ]
    },
    {
     "name": "stdout",
     "output_type": "stream",
     "text": [
      "0.7336011246734647\n"
     ]
    }
   ],
   "source": [
    "w1 = np.array([1]*train_labels.shape[0])\n",
    "w1[train_labels[0] == -1] = 2\n",
    "w1[train_labels[0] == 1] = 1\n",
    "xgb_classifier.fit(train_data, train_labels.values.ravel(), sample_weight = w1, eval_metric='auc')\n",
    "xgb_predictions = xgb_classifier.predict(test_data) \n",
    "xgb_predictions_proba = xgb_classifier.predict_proba(test_data).transpose()[1]\n",
    "print(metrics.roc_auc_score(test_labels, xgb_predictions_proba))"
   ]
  },
  {
   "cell_type": "code",
   "execution_count": 51,
   "metadata": {},
   "outputs": [
    {
     "name": "stderr",
     "output_type": "stream",
     "text": [
      "c:\\programdata\\anaconda3\\envs\\test\\lib\\site-packages\\sklearn\\preprocessing\\label.py:151: DeprecationWarning: The truth value of an empty array is ambiguous. Returning False, but in future this will result in an error. Use `array.size > 0` to check that an array is not empty.\n",
      "  if diff:\n"
     ]
    },
    {
     "name": "stdout",
     "output_type": "stream",
     "text": [
      "0.7298995150602964\n"
     ]
    }
   ],
   "source": [
    "w1 = np.array([1]*train_labels.shape[0])\n",
    "w1[train_labels[0] == -1] = 1\n",
    "w1[train_labels[0] == 1] = 1\n",
    "xgb_classifier.fit(train_data, train_labels.values.ravel(), sample_weight = w1, eval_metric='auc')\n",
    "xgb_predictions = xgb_classifier.predict(test_data) \n",
    "xgb_predictions_proba = xgb_classifier.predict_proba(test_data).transpose()[1]\n",
    "print(metrics.roc_auc_score(test_labels, xgb_predictions_proba))"
   ]
  },
  {
   "cell_type": "code",
   "execution_count": 55,
   "metadata": {},
   "outputs": [
    {
     "name": "stderr",
     "output_type": "stream",
     "text": [
      "c:\\programdata\\anaconda3\\envs\\test\\lib\\site-packages\\sklearn\\preprocessing\\label.py:151: DeprecationWarning: The truth value of an empty array is ambiguous. Returning False, but in future this will result in an error. Use `array.size > 0` to check that an array is not empty.\n",
      "  if diff:\n"
     ]
    },
    {
     "name": "stdout",
     "output_type": "stream",
     "text": [
      "0.7306132887312415\n"
     ]
    }
   ],
   "source": [
    "w1 = np.array([1]*train_labels.shape[0])\n",
    "w1[train_labels[0] == -1] = 1000\n",
    "w1[train_labels[0] == 1] = 1\n",
    "xgb_classifier.fit(train_data, train_labels.values.ravel(), sample_weight = w1, eval_metric='auc')\n",
    "xgb_predictions = xgb_classifier.predict(test_data) \n",
    "xgb_predictions_proba = xgb_classifier.predict_proba(test_data).transpose()[1]\n",
    "print(metrics.roc_auc_score(test_labels, xgb_predictions_proba))"
   ]
  },
  {
   "cell_type": "markdown",
   "metadata": {},
   "source": [
    "The results of the classification vary. The quality of the model can both increase and decrease. Optimum - the ratio of weights of classes 10: 1"
   ]
  },
  {
   "cell_type": "markdown",
   "metadata": {},
   "source": [
    "Now we apply the undersampling technology to the sample: to do this, we remove from a number of objects of larger class from training set so that the ratio of classes changes. "
   ]
  },
  {
   "cell_type": "code",
   "execution_count": 59,
   "metadata": {
    "collapsed": true
   },
   "outputs": [],
   "source": [
    "def estimation(train_data, train_labels, test_data):\n",
    "    xgb_classifier.fit(train_data, train_labels.values.ravel(), eval_metric='auc')\n",
    "    xgb_predictions = xgb_classifier.predict(test_data) \n",
    "    xgb_predictions_proba = xgb_classifier.predict_proba(test_data).transpose()[1]\n",
    "    return xgb_predictions_proba"
   ]
  },
  {
   "cell_type": "code",
   "execution_count": 105,
   "metadata": {},
   "outputs": [
    {
     "name": "stderr",
     "output_type": "stream",
     "text": [
      "c:\\programdata\\anaconda3\\envs\\test\\lib\\site-packages\\sklearn\\preprocessing\\label.py:151: DeprecationWarning: The truth value of an empty array is ambiguous. Returning False, but in future this will result in an error. Use `array.size > 0` to check that an array is not empty.\n",
      "  if diff:\n"
     ]
    },
    {
     "name": "stdout",
     "output_type": "stream",
     "text": [
      "0.7121413200481458\n"
     ]
    }
   ],
   "source": [
    "# let's make classes of the same size\n",
    "dataChurn = train_labels[train_labels[0] == 1]\n",
    "dataNoChurn = train_labels[train_labels[0] == -1]\n",
    "countFirst = len(dataChurn)\n",
    "dataChurn = dataChurn.append(dataNoChurn.iloc[:countFirst,:])\n",
    "print(metrics.roc_auc_score(test_labels, estimation(train_data.loc[list(dataChurn.index), :], train_labels.loc[list(dataChurn.index), :], test_data)))"
   ]
  },
  {
   "cell_type": "code",
   "execution_count": 107,
   "metadata": {},
   "outputs": [
    {
     "name": "stderr",
     "output_type": "stream",
     "text": [
      "c:\\programdata\\anaconda3\\envs\\test\\lib\\site-packages\\sklearn\\preprocessing\\label.py:151: DeprecationWarning: The truth value of an empty array is ambiguous. Returning False, but in future this will result in an error. Use `array.size > 0` to check that an array is not empty.\n",
      "  if diff:\n"
     ]
    },
    {
     "name": "stdout",
     "output_type": "stream",
     "text": [
      "0.645548860504083\n"
     ]
    }
   ],
   "source": [
    "# making nonchurn class size is 2 times smaller than churn class size\n",
    "dataChurn = train_labels[train_labels[0] == 1]\n",
    "dataNoChurn = train_labels[train_labels[0] == -1]\n",
    "countHalf = len(dataChurn) // 2\n",
    "dataChurn = dataChurn.append(dataNoChurn.iloc[:countHalf,:])\n",
    "print(metrics.roc_auc_score(test_labels, estimation(train_data.loc[list(dataChurn.index), :], train_labels.loc[list(dataChurn.index), :], test_data)))"
   ]
  },
  {
   "cell_type": "markdown",
   "metadata": {},
   "source": [
    "The results of the classification vary, with the highest quality with equal volume of classes."
   ]
  },
  {
   "cell_type": "markdown",
   "metadata": {},
   "source": [
    "Let's check how different strategies for processing missing values affect model quality."
   ]
  },
  {
   "cell_type": "code",
   "execution_count": 126,
   "metadata": {},
   "outputs": [
    {
     "name": "stderr",
     "output_type": "stream",
     "text": [
      "c:\\programdata\\anaconda3\\envs\\test\\lib\\site-packages\\sklearn\\preprocessing\\label.py:151: DeprecationWarning: The truth value of an empty array is ambiguous. Returning False, but in future this will result in an error. Use `array.size > 0` to check that an array is not empty.\n",
      "  if diff:\n"
     ]
    },
    {
     "data": {
      "text/plain": [
       "0.7070138625946104"
      ]
     },
     "execution_count": 126,
     "metadata": {},
     "output_type": "execute_result"
    }
   ],
   "source": [
    "# Nan -> mean feature value\n",
    "enc_data = pd.read_csv('orange_small_churn_data.train')\n",
    "labels = pd.read_table('orange_small_churn_labels.train', header = -1, names = [\"labels\"])\n",
    "enc_data['labels'] = labels\n",
    "\n",
    "label_encoder = LabelEncoder()\n",
    "for i in range(40):\n",
    "    integer_encoded = label_encoder.fit_transform(enc_data[enc_data.columns[190 + i]].fillna(0.).values.astype(str))\n",
    "    for j in range(len(enc_data)):\n",
    "        if type(enc_data[enc_data.columns[190 + i]].values[j]) == str:\n",
    "            enc_data[enc_data.columns[190 + i]].values[j] = integer_encoded[j]\n",
    "\n",
    "            \n",
    "for i in range(230):\n",
    "    enc_data[enc_data.columns[i]] = enc_data[enc_data.columns[i]].fillna(enc_data[enc_data.columns[i]].mean())\n",
    "    \n",
    "    \n",
    "Xy_train, Xy_test = model_selection.train_test_split(enc_data, test_size=0.3)\n",
    "\n",
    "metrics.roc_auc_score(Xy_test['labels'], estimation(Xy_train.iloc[:, 0:230], Xy_train.iloc[:, 230], Xy_test.iloc[:, 0:230]))"
   ]
  },
  {
   "cell_type": "code",
   "execution_count": 137,
   "metadata": {},
   "outputs": [
    {
     "name": "stderr",
     "output_type": "stream",
     "text": [
      "c:\\programdata\\anaconda3\\envs\\test\\lib\\site-packages\\sklearn\\preprocessing\\label.py:151: DeprecationWarning: The truth value of an empty array is ambiguous. Returning False, but in future this will result in an error. Use `array.size > 0` to check that an array is not empty.\n",
      "  if diff:\n"
     ]
    },
    {
     "data": {
      "text/plain": [
       "0.7205750291961841"
      ]
     },
     "execution_count": 137,
     "metadata": {},
     "output_type": "execute_result"
    }
   ],
   "source": [
    "# Nan -> mode\n",
    "enc_data = pd.read_csv('orange_small_churn_data.train')\n",
    "labels = pd.read_table('orange_small_churn_labels.train', header = -1, names = [\"labels\"])\n",
    "enc_data['labels'] = labels\n",
    "\n",
    "label_encoder = LabelEncoder()\n",
    "for i in range(40):\n",
    "    integer_encoded = label_encoder.fit_transform(enc_data[enc_data.columns[190 + i]].fillna(enc_data[enc_data.columns[190 + i]].mode()).values.astype(str))\n",
    "    for j in range(len(enc_data)):\n",
    "        if type(enc_data[enc_data.columns[190 + i]].values[j]) == str:\n",
    "            enc_data[enc_data.columns[190 + i]].values[j] = integer_encoded[j]\n",
    "\n",
    "            \n",
    "for i in range(230):\n",
    "    enc_data[enc_data.columns[i]] = enc_data[enc_data.columns[i]].fillna(enc_data[enc_data.columns[i]].mode())\n",
    "    \n",
    "    \n",
    "Xy_train, Xy_test = model_selection.train_test_split(enc_data, test_size=0.3)\n",
    "\n",
    "metrics.roc_auc_score(Xy_test['labels'], estimation(Xy_train.iloc[:, 0:230], Xy_train.iloc[:, 230], Xy_test.iloc[:, 0:230]))"
   ]
  },
  {
   "cell_type": "code",
   "execution_count": 136,
   "metadata": {},
   "outputs": [
    {
     "name": "stderr",
     "output_type": "stream",
     "text": [
      "c:\\programdata\\anaconda3\\envs\\test\\lib\\site-packages\\sklearn\\preprocessing\\label.py:151: DeprecationWarning: The truth value of an empty array is ambiguous. Returning False, but in future this will result in an error. Use `array.size > 0` to check that an array is not empty.\n",
      "  if diff:\n"
     ]
    },
    {
     "data": {
      "text/plain": [
       "0.7154765544589146"
      ]
     },
     "execution_count": 136,
     "metadata": {},
     "output_type": "execute_result"
    }
   ],
   "source": [
    "# Nan -> replace to zero\n",
    "enc_data = pd.read_csv('orange_small_churn_data.train')\n",
    "labels = pd.read_table('orange_small_churn_labels.train', header = -1, names = [\"labels\"])\n",
    "enc_data['labels'] = labels\n",
    "\n",
    "label_encoder = LabelEncoder()\n",
    "for i in range(40):\n",
    "    integer_encoded = label_encoder.fit_transform(enc_data[enc_data.columns[190 + i]].fillna(0.).values.astype(str))\n",
    "    for j in range(len(enc_data)):\n",
    "        if type(enc_data[enc_data.columns[190 + i]].values[j]) == str:\n",
    "            enc_data[enc_data.columns[190 + i]].values[j] = integer_encoded[j]\n",
    "\n",
    "            \n",
    "for i in range(230):\n",
    "    enc_data[enc_data.columns[i]] = enc_data[enc_data.columns[i]].fillna(0.)\n",
    "    \n",
    "    \n",
    "Xy_train, Xy_test = model_selection.train_test_split(enc_data, test_size=0.3)\n",
    "\n",
    "metrics.roc_auc_score(Xy_test['labels'], estimation(Xy_train.iloc[:, 0:230], Xy_train.iloc[:, 230], Xy_test.iloc[:, 0:230]))"
   ]
  },
  {
   "cell_type": "markdown",
   "metadata": {},
   "source": [
    "The results of the classification vary. The highest quality gives the option of replacing nan with mode."
   ]
  },
  {
   "cell_type": "markdown",
   "metadata": {},
   "source": [
    "Let's look at how the processing of categorical features affects the quality of the model."
   ]
  },
  {
   "cell_type": "code",
   "execution_count": 129,
   "metadata": {
    "collapsed": true
   },
   "outputs": [],
   "source": [
    "raw_data = pd.read_csv('orange_small_churn_data.train')\n",
    "raw_labels = pd.read_table('orange_small_churn_labels.train', header = -1, names = [\"labels\"])\n",
    "raw_data['labels'] = raw_labels"
   ]
  },
  {
   "cell_type": "code",
   "execution_count": 138,
   "metadata": {},
   "outputs": [
    {
     "name": "stderr",
     "output_type": "stream",
     "text": [
      "c:\\programdata\\anaconda3\\envs\\test\\lib\\site-packages\\sklearn\\preprocessing\\label.py:151: DeprecationWarning: The truth value of an empty array is ambiguous. Returning False, but in future this will result in an error. Use `array.size > 0` to check that an array is not empty.\n",
      "  if diff:\n"
     ]
    },
    {
     "data": {
      "text/plain": [
       "0.7306804867517721"
      ]
     },
     "execution_count": 138,
     "metadata": {},
     "output_type": "execute_result"
    }
   ],
   "source": [
    "# Label Encoding\n",
    "le_data = raw_data\n",
    "label_encoder = LabelEncoder()\n",
    "for i in range(40):\n",
    "    integer_encoded = label_encoder.fit_transform(le_data[le_data.columns[190 + i]].fillna(le_data[le_data.columns[190 + i]].mode()).values.astype(str))\n",
    "    for j in range(len(le_data)):\n",
    "        if type(le_data[le_data.columns[190 + i]].values[j]) == str:\n",
    "            le_data[le_data.columns[190 + i]].values[j] = integer_encoded[j]\n",
    "for i in range(230):\n",
    "    le_data[le_data.columns[i]] = le_data[le_data.columns[i]].fillna(le_data[le_data.columns[i]].mode())\n",
    "\n",
    "train_le_data, test_le_data = model_selection.train_test_split(le_data, test_size = 0.3)\n",
    "\n",
    "metrics.roc_auc_score(test_le_data['labels'], estimation(train_le_data.iloc[:, 0:230], train_le_data.iloc[:, 230], test_le_data.iloc[:, 0:230]))"
   ]
  },
  {
   "cell_type": "code",
   "execution_count": 140,
   "metadata": {
    "collapsed": true
   },
   "outputs": [],
   "source": [
    "from collections import Counter"
   ]
  },
  {
   "cell_type": "code",
   "execution_count": 141,
   "metadata": {},
   "outputs": [
    {
     "name": "stderr",
     "output_type": "stream",
     "text": [
      "c:\\programdata\\anaconda3\\envs\\test\\lib\\site-packages\\sklearn\\preprocessing\\label.py:151: DeprecationWarning: The truth value of an empty array is ambiguous. Returning False, but in future this will result in an error. Use `array.size > 0` to check that an array is not empty.\n",
      "  if diff:\n"
     ]
    },
    {
     "data": {
      "text/plain": [
       "0.691858399046501"
      ]
     },
     "execution_count": 141,
     "metadata": {},
     "output_type": "execute_result"
    }
   ],
   "source": [
    "# Frequency Encoding\n",
    "fr_data = raw_data\n",
    "\n",
    "for i in range(40):\n",
    "    curr_col = fr_data[fr_data.columns[190 + i]]\n",
    "    counter = Counter(curr_col.values)\n",
    "    for j in range(len(curr_col)):\n",
    "        if type(curr_col.values[j]) == str:\n",
    "            curr_col.values[j] = 1.0 * counter[curr_col.values[j]] / len(curr_col)\n",
    "\n",
    "for i in range(230):\n",
    "    fr_data[fr_data.columns[i]] = fr_data[fr_data.columns[i]].fillna(fr_data[fr_data.columns[i]].mode())\n",
    "\n",
    "train_fr_data, test_fr_data = model_selection.train_test_split(fr_data, test_size = 0.3)\n",
    "\n",
    "roc_auc_score(test_fr_data['labels'], estimation(train_fr_data.iloc[:, 0:230], train_fr_data.iloc[:, 230], test_fr_data.iloc[:, 0:230]))"
   ]
  },
  {
   "cell_type": "markdown",
   "metadata": {},
   "source": [
    "Label encoding is more effective than frequency encoding"
   ]
  },
  {
   "cell_type": "markdown",
   "metadata": {},
   "source": [
    "# Feature selection"
   ]
  },
  {
   "cell_type": "markdown",
   "metadata": {},
   "source": [
    "We can build a selection based on l1-regularization — filter out features from training set that will gain zero weight when building a regression with l1-regularization"
   ]
  },
  {
   "cell_type": "code",
   "execution_count": 143,
   "metadata": {
    "collapsed": true
   },
   "outputs": [],
   "source": [
    "indices1 = np.argsort(xgb_classifier.feature_importances_)[::-1]"
   ]
  },
  {
   "cell_type": "code",
   "execution_count": 150,
   "metadata": {},
   "outputs": [
    {
     "name": "stdout",
     "output_type": "stream",
     "text": [
      "Number of features:  10\n"
     ]
    },
    {
     "name": "stderr",
     "output_type": "stream",
     "text": [
      "c:\\programdata\\anaconda3\\envs\\test\\lib\\site-packages\\ipykernel_launcher.py:6: SettingWithCopyWarning: \n",
      "A value is trying to be set on a copy of a slice from a DataFrame.\n",
      "Try using .loc[row_indexer,col_indexer] = value instead\n",
      "\n",
      "See the caveats in the documentation: http://pandas.pydata.org/pandas-docs/stable/indexing.html#indexing-view-versus-copy\n",
      "  \n",
      "c:\\programdata\\anaconda3\\envs\\test\\lib\\site-packages\\ipykernel_launcher.py:8: SettingWithCopyWarning: \n",
      "A value is trying to be set on a copy of a slice from a DataFrame.\n",
      "Try using .loc[row_indexer,col_indexer] = value instead\n",
      "\n",
      "See the caveats in the documentation: http://pandas.pydata.org/pandas-docs/stable/indexing.html#indexing-view-versus-copy\n",
      "  \n",
      "c:\\programdata\\anaconda3\\envs\\test\\lib\\site-packages\\sklearn\\preprocessing\\label.py:151: DeprecationWarning: The truth value of an empty array is ambiguous. Returning False, but in future this will result in an error. Use `array.size > 0` to check that an array is not empty.\n",
      "  if diff:\n"
     ]
    },
    {
     "name": "stdout",
     "output_type": "stream",
     "text": [
      "0.7082825939644107\n",
      "Number of features:  20\n"
     ]
    },
    {
     "name": "stderr",
     "output_type": "stream",
     "text": [
      "c:\\programdata\\anaconda3\\envs\\test\\lib\\site-packages\\ipykernel_launcher.py:6: SettingWithCopyWarning: \n",
      "A value is trying to be set on a copy of a slice from a DataFrame.\n",
      "Try using .loc[row_indexer,col_indexer] = value instead\n",
      "\n",
      "See the caveats in the documentation: http://pandas.pydata.org/pandas-docs/stable/indexing.html#indexing-view-versus-copy\n",
      "  \n",
      "c:\\programdata\\anaconda3\\envs\\test\\lib\\site-packages\\ipykernel_launcher.py:8: SettingWithCopyWarning: \n",
      "A value is trying to be set on a copy of a slice from a DataFrame.\n",
      "Try using .loc[row_indexer,col_indexer] = value instead\n",
      "\n",
      "See the caveats in the documentation: http://pandas.pydata.org/pandas-docs/stable/indexing.html#indexing-view-versus-copy\n",
      "  \n",
      "c:\\programdata\\anaconda3\\envs\\test\\lib\\site-packages\\sklearn\\preprocessing\\label.py:151: DeprecationWarning: The truth value of an empty array is ambiguous. Returning False, but in future this will result in an error. Use `array.size > 0` to check that an array is not empty.\n",
      "  if diff:\n"
     ]
    },
    {
     "name": "stdout",
     "output_type": "stream",
     "text": [
      "0.7157649630438054\n",
      "Number of features:  50\n"
     ]
    },
    {
     "name": "stderr",
     "output_type": "stream",
     "text": [
      "c:\\programdata\\anaconda3\\envs\\test\\lib\\site-packages\\ipykernel_launcher.py:6: SettingWithCopyWarning: \n",
      "A value is trying to be set on a copy of a slice from a DataFrame.\n",
      "Try using .loc[row_indexer,col_indexer] = value instead\n",
      "\n",
      "See the caveats in the documentation: http://pandas.pydata.org/pandas-docs/stable/indexing.html#indexing-view-versus-copy\n",
      "  \n",
      "c:\\programdata\\anaconda3\\envs\\test\\lib\\site-packages\\ipykernel_launcher.py:8: SettingWithCopyWarning: \n",
      "A value is trying to be set on a copy of a slice from a DataFrame.\n",
      "Try using .loc[row_indexer,col_indexer] = value instead\n",
      "\n",
      "See the caveats in the documentation: http://pandas.pydata.org/pandas-docs/stable/indexing.html#indexing-view-versus-copy\n",
      "  \n",
      "c:\\programdata\\anaconda3\\envs\\test\\lib\\site-packages\\sklearn\\preprocessing\\label.py:151: DeprecationWarning: The truth value of an empty array is ambiguous. Returning False, but in future this will result in an error. Use `array.size > 0` to check that an array is not empty.\n",
      "  if diff:\n"
     ]
    },
    {
     "name": "stdout",
     "output_type": "stream",
     "text": [
      "0.721376244580806\n"
     ]
    }
   ],
   "source": [
    "train_df = train_le_data[train_le_data.columns[:230]]\n",
    "test_df = test_le_data[test_le_data.columns[:230]]\n",
    "for i in [10, 20, 50]:\n",
    "    print('Number of features: ', i)\n",
    "    train_le_data_selection = train_df[train_df.columns[indices1[0:i]]]\n",
    "    train_le_data_selection['labels'] = train_le_data['labels']\n",
    "    test_le_data_selection = test_df[test_df.columns[indices1[0:i]]]\n",
    "    test_le_data_selection['labels'] = test_le_data['labels']\n",
    "    print(metrics.roc_auc_score(test_le_data_selection['labels'], estimation(train_le_data_selection.iloc[:, 0:i-1], train_le_data_selection.iloc[:, i], test_le_data_selection.iloc[:, 0:i-1])))"
   ]
  },
  {
   "cell_type": "code",
   "execution_count": null,
   "metadata": {
    "collapsed": true
   },
   "outputs": [],
   "source": []
  }
 ],
 "metadata": {
  "kernelspec": {
   "display_name": "Python (py36)",
   "language": "python",
   "name": "py36"
  },
  "language_info": {
   "codemirror_mode": {
    "name": "ipython",
    "version": 3
   },
   "file_extension": ".py",
   "mimetype": "text/x-python",
   "name": "python",
   "nbconvert_exporter": "python",
   "pygments_lexer": "ipython3",
   "version": "3.6.6"
  }
 },
 "nbformat": 4,
 "nbformat_minor": 2
}
