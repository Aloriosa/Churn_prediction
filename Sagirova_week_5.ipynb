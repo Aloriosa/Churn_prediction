{
 "cells": [
  {
   "cell_type": "markdown",
   "metadata": {},
   "source": [
    "# Peer-graded Assignment: Эксперименты с моделью\n",
    "\n",
    "На прошлой неделе вы поучаствовали в соревновании на kaggle и, наверняка, большинство успешно справилось с прохождением baseline, а значит пора двигаться дальше - заняться оптимизацией модели, провести серию экспериментов и построить сильное финальное решения.\n",
    "\n",
    "В этом задании вам нужно провести ряд эскпериментов, оценить качество полученных в процессе экспериментирования моделей и выбрать лучшее решение. "
   ]
  },
  {
   "cell_type": "markdown",
   "metadata": {},
   "source": [
    "Задание будет оцениваться на основании загруженного jupyther notebook и развернутых ответов на поставленные вопросы."
   ]
  },
  {
   "cell_type": "markdown",
   "metadata": {},
   "source": [
    "## Инструкции"
   ]
  },
  {
   "cell_type": "code",
   "execution_count": 1,
   "metadata": {},
   "outputs": [
    {
     "name": "stderr",
     "output_type": "stream",
     "text": [
      "C:\\Users\\mypc\\Anaconda2\\lib\\site-packages\\sklearn\\cross_validation.py:41: DeprecationWarning: This module was deprecated in version 0.18 in favor of the model_selection module into which all the refactored classes and functions are moved. Also note that the interface of the new CV iterators are different from that of this module. This module will be removed in 0.20.\n",
      "  \"This module will be removed in 0.20.\", DeprecationWarning)\n"
     ]
    },
    {
     "name": "stdout",
     "output_type": "stream",
     "text": [
      "Populating the interactive namespace from numpy and matplotlib\n"
     ]
    },
    {
     "name": "stderr",
     "output_type": "stream",
     "text": [
      "C:\\Users\\mypc\\Anaconda2\\lib\\site-packages\\IPython\\core\\magics\\pylab.py:161: UserWarning: pylab import has clobbered these variables: ['shuffle']\n",
      "`%matplotlib` prevents importing * from pylab and numpy\n",
      "  \"\\n`%matplotlib` prevents importing * from pylab and numpy\"\n"
     ]
    }
   ],
   "source": [
    "import pandas as pd\n",
    "import numpy as np\n",
    "import xgboost as xgb\n",
    "from sklearn import cross_validation\n",
    "from sklearn.preprocessing import LabelEncoder\n",
    "from sklearn import model_selection\n",
    "from sklearn.utils import shuffle\n",
    "from sklearn.model_selection import learning_curve\n",
    "import matplotlib.pyplot as plt\n",
    "from collections import Counter\n",
    "from sklearn import linear_model\n",
    "from sklearn.metrics import roc_auc_score\n",
    "%pylab inline"
   ]
  },
  {
   "cell_type": "code",
   "execution_count": 2,
   "metadata": {
    "collapsed": true
   },
   "outputs": [],
   "source": [
    "def label_encoding(df):\n",
    "    label_encoder = LabelEncoder()\n",
    "    for i in range(40):\n",
    "        integer_encoded = label_encoder.fit_transform(df[df.columns[190 + i]].fillna(0).values)\n",
    "        for j in range(len(df)):\n",
    "            if type(df[df.columns[190 + i]].values[j]) == str:\n",
    "                df[df.columns[190 + i]].values[j] = integer_encoded[j]\n",
    "    df = df.fillna(0.0)\n",
    "    return df\n",
    "\n",
    "\n",
    "def estimation(train_data, test_data):\n",
    "    estimator.fit(train_data[train_data.columns[:230]], train_data['labels'], eval_metric='auc')\n",
    "    xgb_predictions = estimator.predict(test_data[test_data.columns[:230]]) \n",
    "    xgb_predictions_proba = estimator.predict_proba(test_data[test_data.columns[:230]]).transpose()[1]\n",
    "    return xgb_predictions_proba"
   ]
  },
  {
   "cell_type": "code",
   "execution_count": 4,
   "metadata": {},
   "outputs": [
    {
     "data": {
      "text/html": [
       "<div>\n",
       "<style>\n",
       "    .dataframe thead tr:only-child th {\n",
       "        text-align: right;\n",
       "    }\n",
       "\n",
       "    .dataframe thead th {\n",
       "        text-align: left;\n",
       "    }\n",
       "\n",
       "    .dataframe tbody tr th {\n",
       "        vertical-align: top;\n",
       "    }\n",
       "</style>\n",
       "<table border=\"1\" class=\"dataframe\">\n",
       "  <thead>\n",
       "    <tr style=\"text-align: right;\">\n",
       "      <th></th>\n",
       "      <th>Var1</th>\n",
       "      <th>Var2</th>\n",
       "      <th>Var3</th>\n",
       "      <th>Var4</th>\n",
       "      <th>Var5</th>\n",
       "      <th>Var6</th>\n",
       "      <th>Var7</th>\n",
       "      <th>Var8</th>\n",
       "      <th>Var9</th>\n",
       "      <th>Var10</th>\n",
       "      <th>...</th>\n",
       "      <th>Var222</th>\n",
       "      <th>Var223</th>\n",
       "      <th>Var224</th>\n",
       "      <th>Var225</th>\n",
       "      <th>Var226</th>\n",
       "      <th>Var227</th>\n",
       "      <th>Var228</th>\n",
       "      <th>Var229</th>\n",
       "      <th>Var230</th>\n",
       "      <th>labels</th>\n",
       "    </tr>\n",
       "  </thead>\n",
       "  <tbody>\n",
       "    <tr>\n",
       "      <th>0</th>\n",
       "      <td>NaN</td>\n",
       "      <td>NaN</td>\n",
       "      <td>NaN</td>\n",
       "      <td>NaN</td>\n",
       "      <td>NaN</td>\n",
       "      <td>3052.0</td>\n",
       "      <td>NaN</td>\n",
       "      <td>NaN</td>\n",
       "      <td>NaN</td>\n",
       "      <td>NaN</td>\n",
       "      <td>...</td>\n",
       "      <td>vr93T2a</td>\n",
       "      <td>LM8l689qOp</td>\n",
       "      <td>NaN</td>\n",
       "      <td>NaN</td>\n",
       "      <td>fKCe</td>\n",
       "      <td>02N6s8f</td>\n",
       "      <td>xwM2aC7IdeMC0</td>\n",
       "      <td>NaN</td>\n",
       "      <td>NaN</td>\n",
       "      <td>-1</td>\n",
       "    </tr>\n",
       "    <tr>\n",
       "      <th>1</th>\n",
       "      <td>NaN</td>\n",
       "      <td>NaN</td>\n",
       "      <td>NaN</td>\n",
       "      <td>NaN</td>\n",
       "      <td>NaN</td>\n",
       "      <td>1813.0</td>\n",
       "      <td>7.0</td>\n",
       "      <td>NaN</td>\n",
       "      <td>NaN</td>\n",
       "      <td>NaN</td>\n",
       "      <td>...</td>\n",
       "      <td>6hQ9lNX</td>\n",
       "      <td>LM8l689qOp</td>\n",
       "      <td>NaN</td>\n",
       "      <td>ELof</td>\n",
       "      <td>xb3V</td>\n",
       "      <td>RAYp</td>\n",
       "      <td>55YFVY9</td>\n",
       "      <td>mj86</td>\n",
       "      <td>NaN</td>\n",
       "      <td>-1</td>\n",
       "    </tr>\n",
       "    <tr>\n",
       "      <th>2</th>\n",
       "      <td>NaN</td>\n",
       "      <td>NaN</td>\n",
       "      <td>NaN</td>\n",
       "      <td>NaN</td>\n",
       "      <td>NaN</td>\n",
       "      <td>1953.0</td>\n",
       "      <td>7.0</td>\n",
       "      <td>NaN</td>\n",
       "      <td>NaN</td>\n",
       "      <td>NaN</td>\n",
       "      <td>...</td>\n",
       "      <td>catzS2D</td>\n",
       "      <td>LM8l689qOp</td>\n",
       "      <td>NaN</td>\n",
       "      <td>NaN</td>\n",
       "      <td>FSa2</td>\n",
       "      <td>ZI9m</td>\n",
       "      <td>ib5G6X1eUxUn6</td>\n",
       "      <td>mj86</td>\n",
       "      <td>NaN</td>\n",
       "      <td>-1</td>\n",
       "    </tr>\n",
       "    <tr>\n",
       "      <th>3</th>\n",
       "      <td>NaN</td>\n",
       "      <td>NaN</td>\n",
       "      <td>NaN</td>\n",
       "      <td>NaN</td>\n",
       "      <td>NaN</td>\n",
       "      <td>1533.0</td>\n",
       "      <td>7.0</td>\n",
       "      <td>NaN</td>\n",
       "      <td>NaN</td>\n",
       "      <td>NaN</td>\n",
       "      <td>...</td>\n",
       "      <td>e4lqvY0</td>\n",
       "      <td>LM8l689qOp</td>\n",
       "      <td>NaN</td>\n",
       "      <td>NaN</td>\n",
       "      <td>xb3V</td>\n",
       "      <td>RAYp</td>\n",
       "      <td>F2FyR07IdsN7I</td>\n",
       "      <td>NaN</td>\n",
       "      <td>NaN</td>\n",
       "      <td>1</td>\n",
       "    </tr>\n",
       "    <tr>\n",
       "      <th>4</th>\n",
       "      <td>NaN</td>\n",
       "      <td>NaN</td>\n",
       "      <td>NaN</td>\n",
       "      <td>NaN</td>\n",
       "      <td>NaN</td>\n",
       "      <td>686.0</td>\n",
       "      <td>7.0</td>\n",
       "      <td>NaN</td>\n",
       "      <td>NaN</td>\n",
       "      <td>NaN</td>\n",
       "      <td>...</td>\n",
       "      <td>MAz3HNj</td>\n",
       "      <td>LM8l689qOp</td>\n",
       "      <td>NaN</td>\n",
       "      <td>NaN</td>\n",
       "      <td>WqMG</td>\n",
       "      <td>RAYp</td>\n",
       "      <td>F2FyR07IdsN7I</td>\n",
       "      <td>NaN</td>\n",
       "      <td>NaN</td>\n",
       "      <td>-1</td>\n",
       "    </tr>\n",
       "  </tbody>\n",
       "</table>\n",
       "<p>5 rows × 231 columns</p>\n",
       "</div>"
      ],
      "text/plain": [
       "   Var1  Var2  Var3  Var4  Var5    Var6  Var7  Var8  Var9  Var10   ...    \\\n",
       "0   NaN   NaN   NaN   NaN   NaN  3052.0   NaN   NaN   NaN    NaN   ...     \n",
       "1   NaN   NaN   NaN   NaN   NaN  1813.0   7.0   NaN   NaN    NaN   ...     \n",
       "2   NaN   NaN   NaN   NaN   NaN  1953.0   7.0   NaN   NaN    NaN   ...     \n",
       "3   NaN   NaN   NaN   NaN   NaN  1533.0   7.0   NaN   NaN    NaN   ...     \n",
       "4   NaN   NaN   NaN   NaN   NaN   686.0   7.0   NaN   NaN    NaN   ...     \n",
       "\n",
       "    Var222      Var223  Var224  Var225  Var226   Var227         Var228  \\\n",
       "0  vr93T2a  LM8l689qOp     NaN     NaN    fKCe  02N6s8f  xwM2aC7IdeMC0   \n",
       "1  6hQ9lNX  LM8l689qOp     NaN    ELof    xb3V     RAYp        55YFVY9   \n",
       "2  catzS2D  LM8l689qOp     NaN     NaN    FSa2     ZI9m  ib5G6X1eUxUn6   \n",
       "3  e4lqvY0  LM8l689qOp     NaN     NaN    xb3V     RAYp  F2FyR07IdsN7I   \n",
       "4  MAz3HNj  LM8l689qOp     NaN     NaN    WqMG     RAYp  F2FyR07IdsN7I   \n",
       "\n",
       "   Var229  Var230  labels  \n",
       "0     NaN     NaN      -1  \n",
       "1    mj86     NaN      -1  \n",
       "2    mj86     NaN      -1  \n",
       "3     NaN     NaN       1  \n",
       "4     NaN     NaN      -1  \n",
       "\n",
       "[5 rows x 231 columns]"
      ]
     },
     "execution_count": 4,
     "metadata": {},
     "output_type": "execute_result"
    }
   ],
   "source": [
    "data = pd.read_csv('orange_small_churn_data.train')\n",
    "labels = pd.read_table('orange_small_churn_labels.train', header = -1, names = [\"labels\"])\n",
    "data['labels'] = labels\n",
    "data.head()"
   ]
  },
  {
   "cell_type": "code",
   "execution_count": 8,
   "metadata": {},
   "outputs": [],
   "source": [
    "encoded_data = pd.read_csv('orange_small_churn_data.train')\n",
    "labels = pd.read_table('orange_small_churn_labels.train', header = -1, names = [\"labels\"])\n",
    "encoded_data['labels'] = labels\n",
    "encoded_data = label_encoding(encoded_data)"
   ]
  },
  {
   "cell_type": "markdown",
   "metadata": {},
   "source": [
    "1\\. Начнем с простого. Давайте оценим как много объектов действительно нужно для построения качественной модели. Для обучения доступна достаточно большая выборка и может так оказаться, что начиная с некоторого момента рост размера обучающей выборки перестает влиять на качество модели. Постройте кривые обучения, обучая модель на выборках разного размера начиная с небольшого количество объектов в обучающей выборке и постепенно наращивая её размер с некоторым шагом. Обратите внимание на `sklearn.model_selection.learning_curve`"
   ]
  },
  {
   "cell_type": "code",
   "execution_count": 9,
   "metadata": {
    "collapsed": true
   },
   "outputs": [],
   "source": [
    "estimator = xgb.XGBClassifier(learning_rate = 0.05, max_delta_step = 1, max_depth = 3, min_child_weight = 20, n_estimators = 500,\n",
    "                              subsample = 0.1)\n",
    "scoring = 'roc_auc'\n",
    "\n",
    "train_encoded_data, test_encoded_data = model_selection.train_test_split(encoded_data, test_size = 0.3)\n",
    "cv = cross_validation.StratifiedKFold(train_encoded_data['labels'], n_folds= 4)"
   ]
  },
  {
   "cell_type": "code",
   "execution_count": 10,
   "metadata": {
    "collapsed": true
   },
   "outputs": [],
   "source": [
    "train_sizes, train_scores, test_scores = learning_curve(estimator, train_encoded_data[train_encoded_data.columns[:230]], \n",
    "                                                        train_encoded_data['labels'], train_sizes = np.linspace(0.1, 1.0, 6),\n",
    "                                                        cv=cv, scoring = scoring)\n",
    "train_scores_mean = np.mean(train_scores, axis=1)\n",
    "test_scores_mean = np.mean(test_scores, axis=1)"
   ]
  },
  {
   "cell_type": "code",
   "execution_count": 11,
   "metadata": {},
   "outputs": [
    {
     "data": {
      "text/plain": [
       "<matplotlib.legend.Legend at 0x11faf7f0>"
      ]
     },
     "execution_count": 11,
     "metadata": {},
     "output_type": "execute_result"
    },
    {
     "data": {
      "image/png": "[encoded data removed]",
      "text/plain": [
       "<matplotlib.figure.Figure at 0x11c22d68>"
      ]
     },
     "metadata": {},
     "output_type": "display_data"
    }
   ],
   "source": [
    "plt.figure()\n",
    "plt.title(\"Learning curve\")\n",
    "plt.xlabel(\"Sample size\")\n",
    "plt.ylabel(\"Quality\")\n",
    "\n",
    "plt.plot(train_sizes, train_scores_mean, 'o-', color=\"b\",\n",
    "    label=\"Train\")\n",
    "plt.plot(train_sizes, test_scores_mean, 'o-', color=\"r\",\n",
    "    label=\"Test\")\n",
    "plt.legend()"
   ]
  },
  {
   "cell_type": "markdown",
   "metadata": {},
   "source": [
    "###### Результат\n",
    "При росте размера выборки качество растет и на обучении и, на тесте"
   ]
  },
  {
   "cell_type": "markdown",
   "metadata": {},
   "source": [
    "2\\. Часто несбалансированные по классам выборки приводят к различным проблемам при обучении моделей. Давайте попробуем по-разному обработать выборку, поиграть с распределением объектов по классам и сделать выводы о том, как соотношение классов влияет на качество модели."
   ]
  },
  {
   "cell_type": "markdown",
   "metadata": {},
   "source": [
    "2.1\\. Задайте веса объектам так, чтобы соотношение классов с учетом весов объектов изменилось. Попробуйте не менее трёх различных вариантов весов. Меняются ли результаты классификации? Как это сказывается на качестве модели? Какой вариант выглядит наиболее оптимальным с точки зрения качества?"
   ]
  },
  {
   "cell_type": "code",
   "execution_count": 12,
   "metadata": {},
   "outputs": [
    {
     "name": "stdout",
     "output_type": "stream",
     "text": [
      "12.5396518375\n"
     ]
    }
   ],
   "source": [
    "weight_ratio = float(len(train_encoded_data['labels'][train_encoded_data['labels'] == -1])) / float(len(train_encoded_data['labels'][train_encoded_data['labels'] == 1]))\n",
    "print weight_ratio"
   ]
  },
  {
   "cell_type": "code",
   "execution_count": 19,
   "metadata": {},
   "outputs": [
    {
     "name": "stdout",
     "output_type": "stream",
     "text": [
      "0.697053061221\n"
     ]
    }
   ],
   "source": [
    "w1 = np.array([1]*train_encoded_data['labels'].shape[0])\n",
    "w1[train_encoded_data['labels'] == -1] = 1\n",
    "w1[train_encoded_data['labels'] == 1] = weight_ratio\n",
    "estimator.fit(train_encoded_data[train_encoded_data.columns[:230]], train_encoded_data['labels'], sample_weight = w1, eval_metric='auc')\n",
    "xgb_predictions = estimator.predict(test_encoded_data[test_encoded_data.columns[:230]]) \n",
    "xgb_predictions_proba = estimator.predict_proba(test_encoded_data[test_encoded_data.columns[:230]]).transpose()[1]\n",
    "print roc_auc_score(test_encoded_data['labels'], xgb_predictions_proba)"
   ]
  },
  {
   "cell_type": "code",
   "execution_count": 20,
   "metadata": {},
   "outputs": [
    {
     "name": "stdout",
     "output_type": "stream",
     "text": [
      "0.714421117097\n"
     ]
    }
   ],
   "source": [
    "w2 = np.array([1]*train_encoded_data['labels'].shape[0])\n",
    "w2[train_encoded_data['labels'] == -1] = 10.\n",
    "w2[train_encoded_data['labels'] == 1] = 1.\n",
    "estimator.fit(train_encoded_data[train_encoded_data.columns[:230]], train_encoded_data['labels'], sample_weight = w2, eval_metric='auc')\n",
    "xgb_predictions = estimator.predict(test_encoded_data[test_encoded_data.columns[:230]]) \n",
    "xgb_predictions_proba = estimator.predict_proba(test_encoded_data[test_encoded_data.columns[:230]]).transpose()[1]\n",
    "print roc_auc_score(test_encoded_data['labels'], xgb_predictions_proba)"
   ]
  },
  {
   "cell_type": "code",
   "execution_count": 21,
   "metadata": {},
   "outputs": [
    {
     "name": "stdout",
     "output_type": "stream",
     "text": [
      "0.721636302546\n"
     ]
    }
   ],
   "source": [
    "w3 = np.array([1]*train_encoded_data['labels'].shape[0])\n",
    "w3[train_encoded_data['labels'] == -1] = 1.\n",
    "w3[train_encoded_data['labels'] == 1] = 1.\n",
    "estimator.fit(train_encoded_data[train_encoded_data.columns[:230]], train_encoded_data['labels'], sample_weight = w3, eval_metric='auc')\n",
    "xgb_predictions = estimator.predict(test_encoded_data[test_encoded_data.columns[:230]]) \n",
    "xgb_predictions_proba = estimator.predict_proba(test_encoded_data[test_encoded_data.columns[:230]]).transpose()[1]\n",
    "print roc_auc_score(test_encoded_data['labels'], xgb_predictions_proba)"
   ]
  },
  {
   "cell_type": "code",
   "execution_count": 25,
   "metadata": {},
   "outputs": [
    {
     "name": "stdout",
     "output_type": "stream",
     "text": [
      "0.717685465256\n"
     ]
    }
   ],
   "source": [
    "w4 = np.array([1]*train_encoded_data['labels'].shape[0])\n",
    "w4[train_encoded_data['labels'] == -1] = 2.\n",
    "w4[train_encoded_data['labels'] == 1] = 1.\n",
    "estimator.fit(train_encoded_data[train_encoded_data.columns[:230]], train_encoded_data['labels'], sample_weight = w4, eval_metric='auc')\n",
    "xgb_predictions = estimator.predict(test_encoded_data[test_encoded_data.columns[:230]]) \n",
    "xgb_predictions_proba = estimator.predict_proba(test_encoded_data[test_encoded_data.columns[:230]]).transpose()[1]\n",
    "print roc_auc_score(test_encoded_data['labels'], xgb_predictions_proba)"
   ]
  },
  {
   "cell_type": "markdown",
   "metadata": {},
   "source": [
    "###### Ответ\n",
    "Результаты классификации меняются. Качество модели может как повыситься, так и понизиться. Оптимум - соотношение весов классов 1:1"
   ]
  },
  {
   "cell_type": "markdown",
   "metadata": {},
   "source": [
    "2.2\\. Примените к выборке технологию undersampling: для этого нужно убрать из обучения некоторое количество объектов большего класса таким образом, чтобы соотношение классов изменилось. Попробуйте не менее трёх различных вариантов undersampling (варианты могут отличаться как по количество отфильтрованных объектов, так и по принципу выборка объектов для отсеивания из выборки). Меняются ли результаты классификации? Как это сказывается на качестве модели? Какой вариант выглядит наиболее оптимальным с точки зрения качества?"
   ]
  },
  {
   "cell_type": "code",
   "execution_count": 28,
   "metadata": {},
   "outputs": [
    {
     "name": "stdout",
     "output_type": "stream",
     "text": [
      "0.694074468879\n"
     ]
    }
   ],
   "source": [
    "# делаем классы равного объема\n",
    "dataChurn = train_encoded_data[train_encoded_data['labels'] == 1]\n",
    "dataNoChurn = train_encoded_data[train_encoded_data['labels'] == -1]\n",
    "countFirst = len(dataChurn)\n",
    "dataChurn = dataChurn.append(dataNoChurn.iloc[:countFirst,:])\n",
    "print roc_auc_score(test_encoded_data['labels'], estimation(dataChurn, test_encoded_data))"
   ]
  },
  {
   "cell_type": "code",
   "execution_count": 30,
   "metadata": {},
   "outputs": [
    {
     "data": {
      "text/plain": [
       "0.63464559924126762"
      ]
     },
     "execution_count": 30,
     "metadata": {},
     "output_type": "execute_result"
    }
   ],
   "source": [
    "# размер класса nonchurn делаем в 2 раза меньше, чем размер класса churn\n",
    "dataChurn2 = train_encoded_data[train_encoded_data['labels'] == 1]\n",
    "dataNoChurn2 = train_encoded_data[train_encoded_data['labels'] == -1]\n",
    "countHalf = len(dataChurn2) / 2\n",
    "dataChurn2 = dataChurn2.append(dataNoChurn2.iloc[:countHalf,:])\n",
    "roc_auc_score(test_encoded_data['labels'], estimation(dataChurn2, test_encoded_data))"
   ]
  },
  {
   "cell_type": "code",
   "execution_count": 31,
   "metadata": {},
   "outputs": [
    {
     "data": {
      "text/plain": [
       "0.60687247704818803"
      ]
     },
     "execution_count": 31,
     "metadata": {},
     "output_type": "execute_result"
    }
   ],
   "source": [
    "# отсеиваем объекты, у которых значение переменной Var228 < 10 (в качетсве примера отсеивания по принципу выбора объетов \n",
    "# из выборки)\n",
    "dataChurn3 = train_encoded_data[train_encoded_data['labels'] == 1]\n",
    "dataNoChurn3 = train_encoded_data[train_encoded_data['labels'] == -1]\n",
    "dataChurn3 = dataChurn3.append(dataNoChurn3[dataNoChurn3[dataNoChurn3.columns[227]] > 10])\n",
    "roc_auc_score(test_encoded_data['labels'], estimation(dataChurn3, test_encoded_data))"
   ]
  },
  {
   "cell_type": "markdown",
   "metadata": {},
   "source": [
    "###### Ответ\n",
    "Результаты классификации меняются, причем наиболее высокое качество дает уравнивание объемов классов."
   ]
  },
  {
   "cell_type": "markdown",
   "metadata": {},
   "source": [
    "3\\. Теперь перейдем к работе с признаками. Ранее вы реализовали несколько стратегий для обработки пропущенных значений. Сравните эти стратегии между собой с помощью оценки качества моделей кросс-валидации, построенных на датасетах с использованием различных стратегий. Как обработка пропущенных значений сказывается на качестве модели? Какой вариант выглядит наиболее оптимальным с точки зрения качества?"
   ]
  },
  {
   "cell_type": "code",
   "execution_count": 58,
   "metadata": {},
   "outputs": [
    {
     "data": {
      "text/plain": [
       "0.71482239160886529"
      ]
     },
     "execution_count": 58,
     "metadata": {},
     "output_type": "execute_result"
    }
   ],
   "source": [
    "# Nan -> среднее значение по признаку\n",
    "enc_data = pd.read_csv('orange_small_churn_data.train')\n",
    "labels = pd.read_table('orange_small_churn_labels.train', header = -1, names = [\"labels\"])\n",
    "enc_data['labels'] = labels\n",
    "\n",
    "label_encoder = LabelEncoder()\n",
    "for i in range(40):\n",
    "    integer_encoded = label_encoder.fit_transform(enc_data[enc_data.columns[190 + i]].fillna(0.).values)\n",
    "    for j in range(len(enc_data)):\n",
    "        if type(enc_data[enc_data.columns[190 + i]].values[j]) == str:\n",
    "            enc_data[enc_data.columns[190 + i]].values[j] = integer_encoded[j]\n",
    "\n",
    "            \n",
    "for i in range(230):\n",
    "    enc_data[enc_data.columns[i]] = enc_data[enc_data.columns[i]].fillna(enc_data[enc_data.columns[i]].mean())\n",
    "    \n",
    "    \n",
    "Xy_train, Xy_test = model_selection.train_test_split(enc_data, test_size=0.3)\n",
    "\n",
    "roc_auc_score(Xy_test['labels'], estimation(Xy_train, Xy_test))"
   ]
  },
  {
   "cell_type": "code",
   "execution_count": 59,
   "metadata": {},
   "outputs": [
    {
     "data": {
      "text/plain": [
       "0.72203436935712084"
      ]
     },
     "execution_count": 59,
     "metadata": {},
     "output_type": "execute_result"
    }
   ],
   "source": [
    "# Nan -> мода (если мода = Nan, то Nan -> 0) \n",
    "labels = pd.read_table('orange_small_churn_labels.train', header = -1, names = [\"labels\"])\n",
    "enc_data['labels'] = labels\n",
    "\n",
    "label_encoder = LabelEncoder()\n",
    "for i in range(40):\n",
    "    integer_encoded = label_encoder.fit_transform(enc_data[enc_data.columns[190 + i]].fillna(0.).values)\n",
    "    for j in range(len(enc_data)):\n",
    "        if type(enc_data[enc_data.columns[190 + i]].values[j]) == str:\n",
    "            enc_data[enc_data.columns[190 + i]].values[j] = integer_encoded[j]\n",
    "\n",
    "            \n",
    "for i in range(230):\n",
    "    enc_data[enc_data.columns[i]] = enc_data[enc_data.columns[i]].fillna(enc_data[enc_data.columns[i]].mode())\n",
    "    \n",
    "    \n",
    "Xy_train, Xy_test = model_selection.train_test_split(enc_data, test_size=0.3)\n",
    "\n",
    "roc_auc_score(Xy_test['labels'], estimation(Xy_train, Xy_test))"
   ]
  },
  {
   "cell_type": "code",
   "execution_count": 60,
   "metadata": {},
   "outputs": [
    {
     "data": {
      "text/plain": [
       "0.7258162460419193"
      ]
     },
     "execution_count": 60,
     "metadata": {},
     "output_type": "execute_result"
    }
   ],
   "source": [
    "# Nan -> 0\n",
    "labels = pd.read_table('orange_small_churn_labels.train', header = -1, names = [\"labels\"])\n",
    "enc_data['labels'] = labels\n",
    "\n",
    "label_encoder = LabelEncoder()\n",
    "for i in range(40):\n",
    "    integer_encoded = label_encoder.fit_transform(enc_data[enc_data.columns[190 + i]].fillna(0.).values)\n",
    "    for j in range(len(enc_data)):\n",
    "        if type(enc_data[enc_data.columns[190 + i]].values[j]) == str:\n",
    "            enc_data[enc_data.columns[190 + i]].values[j] = integer_encoded[j]\n",
    "\n",
    "            \n",
    "for i in range(230):\n",
    "    enc_data[enc_data.columns[i]] = enc_data[enc_data.columns[i]].fillna(0.)\n",
    "    \n",
    "    \n",
    "Xy_train, Xy_test = model_selection.train_test_split(enc_data, test_size=0.3)\n",
    "\n",
    "roc_auc_score(Xy_test['labels'], estimation(Xy_train, Xy_test))"
   ]
  },
  {
   "cell_type": "markdown",
   "metadata": {},
   "source": [
    "###### Ответ\n",
    "Результаты классификации меняются. Наиболее высокое качество дает вариант замены nan на нуль."
   ]
  },
  {
   "cell_type": "markdown",
   "metadata": {},
   "source": [
    "4\\. Также вы уже реализовали несколько стратегий для обработки категориальных признаков. Сравните эти стратегии между собой с помощью оценки качества моделей по кросс-валидации, построенных на датасетах с использованием различных стратегий. Как обработка категориальных признаков сказывается на качестве модели? Какой вариант выглядит наиболее оптимальным с точки зрения качества?"
   ]
  },
  {
   "cell_type": "code",
   "execution_count": 36,
   "metadata": {
    "collapsed": true
   },
   "outputs": [],
   "source": [
    "raw_data = pd.read_csv('orange_small_churn_data.train')\n",
    "raw_labels = pd.read_table('orange_small_churn_labels.train', header = -1, names = [\"labels\"])\n",
    "raw_data['labels'] = raw_labels"
   ]
  },
  {
   "cell_type": "code",
   "execution_count": 37,
   "metadata": {},
   "outputs": [
    {
     "data": {
      "text/plain": [
       "0.72649029117486286"
      ]
     },
     "execution_count": 37,
     "metadata": {},
     "output_type": "execute_result"
    }
   ],
   "source": [
    "# Label Encoding\n",
    "le_data = raw_data\n",
    "label_encoder = LabelEncoder()\n",
    "for i in range(40):\n",
    "    integer_encoded = label_encoder.fit_transform(le_data[le_data.columns[190 + i]].fillna(0).values)\n",
    "    for j in range(len(le_data)):\n",
    "        if type(le_data[le_data.columns[190 + i]].values[j]) == str:\n",
    "            le_data[le_data.columns[190 + i]].values[j] = integer_encoded[j]\n",
    "le_data = le_data.fillna(0.0)\n",
    "\n",
    "train_le_data, test_le_data = model_selection.train_test_split(le_data, test_size = 0.3)\n",
    "\n",
    "roc_auc_score(test_le_data['labels'], estimation(train_le_data, test_le_data))"
   ]
  },
  {
   "cell_type": "code",
   "execution_count": 38,
   "metadata": {},
   "outputs": [
    {
     "data": {
      "text/plain": [
       "0.71987739265128248"
      ]
     },
     "execution_count": 38,
     "metadata": {},
     "output_type": "execute_result"
    }
   ],
   "source": [
    "# Frequency Encoding\n",
    "fr_data = raw_data\n",
    "\n",
    "for i in range(40):\n",
    "    curr_col = fr_data[fr_data.columns[190 + i]]\n",
    "    counter = Counter(curr_col.values)\n",
    "    for j in range(len(curr_col)):\n",
    "        if type(curr_col.values[j]) == str:\n",
    "            curr_col.values[j] = 1.0 * counter[curr_col.values[j]] / len(curr_col)\n",
    "\n",
    "fr_data = fr_data.fillna(0.0)\n",
    "\n",
    "train_fr_data, test_fr_data = model_selection.train_test_split(fr_data, test_size = 0.3)\n",
    "\n",
    "roc_auc_score(test_fr_data['labels'], estimation(train_fr_data, test_fr_data))"
   ]
  },
  {
   "cell_type": "markdown",
   "metadata": {},
   "source": [
    "###### Ответ\n",
    "Label encoding эффективнее Frequency encoding"
   ]
  },
  {
   "cell_type": "markdown",
   "metadata": {},
   "source": [
    "5\\. Все ли признаки оказались полезными для построения моделей? Проведите процедуру отбора признаков, попробуйте разные варианты отбора (обратите внимание на модуль `sklearn.feature_selection`). Например, можно выбрасывать случайные признаки или строить отбор на основе l1-регуляризации - отфильтровать из обучения признаки, которые получат нулевой вес при построении регрессии с l1-регуляризацией (`sklearn.linear_model.Lasso`). И всегда можно придумать что-то своё=) Попробуйте как минимум 2 различные стратегии, сравните результаты. Помог ли отбор признаков улучшить качество модели? Поясните свой ответ."
   ]
  },
  {
   "cell_type": "code",
   "execution_count": 40,
   "metadata": {
    "collapsed": true
   },
   "outputs": [],
   "source": [
    "indices1 = np.argsort(estimator.feature_importances_)[::-1]"
   ]
  },
  {
   "cell_type": "code",
   "execution_count": 50,
   "metadata": {},
   "outputs": [
    {
     "name": "stdout",
     "output_type": "stream",
     "text": [
      "('Number of features: ', 10)\n"
     ]
    },
    {
     "name": "stderr",
     "output_type": "stream",
     "text": [
      "C:\\Users\\mypc\\Anaconda2\\lib\\site-packages\\ipykernel_launcher.py:6: SettingWithCopyWarning: \n",
      "A value is trying to be set on a copy of a slice from a DataFrame.\n",
      "Try using .loc[row_indexer,col_indexer] = value instead\n",
      "\n",
      "See the caveats in the documentation: http://pandas.pydata.org/pandas-docs/stable/indexing.html#indexing-view-versus-copy\n",
      "  \n",
      "C:\\Users\\mypc\\Anaconda2\\lib\\site-packages\\ipykernel_launcher.py:8: SettingWithCopyWarning: \n",
      "A value is trying to be set on a copy of a slice from a DataFrame.\n",
      "Try using .loc[row_indexer,col_indexer] = value instead\n",
      "\n",
      "See the caveats in the documentation: http://pandas.pydata.org/pandas-docs/stable/indexing.html#indexing-view-versus-copy\n",
      "  \n"
     ]
    },
    {
     "name": "stdout",
     "output_type": "stream",
     "text": [
      "0.781253278255\n",
      "('Number of features: ', 20)\n",
      "0.782473012805\n",
      "('Number of features: ', 50)\n",
      "0.780898779631\n"
     ]
    }
   ],
   "source": [
    "train_df = train_le_data[train_le_data.columns[:230]]\n",
    "test_df = test_le_data[test_le_data.columns[:230]]\n",
    "for i in [10, 20, 50]:\n",
    "    print('Number of features: ', i)\n",
    "    train_le_data_selection = train_df[train_df.columns[indices1[0:i]]]\n",
    "    train_le_data_selection['labels'] = train_le_data['labels']\n",
    "    test_le_data_selection = test_df[test_df.columns[indices1[0:i]]]\n",
    "    test_le_data_selection['labels'] = test_le_data['labels']\n",
    "    print roc_auc_score(test_fr_data_selection['labels'], estimation(train_le_data_selection, test_le_data_selection))"
   ]
  },
  {
   "cell_type": "code",
   "execution_count": 51,
   "metadata": {},
   "outputs": [
    {
     "name": "stderr",
     "output_type": "stream",
     "text": [
      "C:\\Users\\mypc\\Anaconda2\\lib\\site-packages\\ipykernel_launcher.py:9: SettingWithCopyWarning: \n",
      "A value is trying to be set on a copy of a slice from a DataFrame.\n",
      "Try using .loc[row_indexer,col_indexer] = value instead\n",
      "\n",
      "See the caveats in the documentation: http://pandas.pydata.org/pandas-docs/stable/indexing.html#indexing-view-versus-copy\n",
      "  if __name__ == '__main__':\n",
      "C:\\Users\\mypc\\Anaconda2\\lib\\site-packages\\ipykernel_launcher.py:11: SettingWithCopyWarning: \n",
      "A value is trying to be set on a copy of a slice from a DataFrame.\n",
      "Try using .loc[row_indexer,col_indexer] = value instead\n",
      "\n",
      "See the caveats in the documentation: http://pandas.pydata.org/pandas-docs/stable/indexing.html#indexing-view-versus-copy\n",
      "  # This is added back by InteractiveShellApp.init_path()\n"
     ]
    },
    {
     "name": "stdout",
     "output_type": "stream",
     "text": [
      "0.781230702996\n"
     ]
    }
   ],
   "source": [
    "train_df = train_le_data[train_le_data.columns[:230]]\n",
    "test_df = test_le_data[test_le_data.columns[:230]]\n",
    "\n",
    "lasso = linear_model.Lasso(alpha = 0.001)\n",
    "lasso.fit(train_df, train_le_data['labels'])\n",
    "lasso_indices = np.argsort(lasso.coef_[lasso.coef_ != 0])\n",
    "\n",
    "train_le_data_selection = train_df[train_df.columns[lasso_indices]]\n",
    "train_le_data_selection['labels'] = train_le_data['labels']\n",
    "test_le_data_selection = test_df[test_df.columns[lasso_indices]]\n",
    "test_le_data_selection['labels'] = test_le_data['labels']\n",
    "print roc_auc_score(test_fr_data_selection['labels'], estimation(train_le_data_selection, test_le_data_selection))"
   ]
  },
  {
   "cell_type": "markdown",
   "metadata": {},
   "source": [
    "###### Ответ\n",
    "При отборе даже 10 признаков наиболее значимых для модели качество падает на - на $2*10^{-3}$. При отборе с помощью l1 - регуляризации качество падает на величину порядка $10^{-3}$. Эффективнее использовать отбор 20 наиболее значимых признаков, чем регуляризацию"
   ]
  },
  {
   "cell_type": "markdown",
   "metadata": {},
   "source": [
    "6\\. Подберите оптимальные параметры модели. Обратите внимание, что в зависимости от того, как вы обработали исходные данные, сделали ли балансировку классов, сколько объектов оставили в обучающей выборке и др. оптимальные значения параметров могут меняться. Возьмите наилучшее из ваших решений на текущий момент и проведите процедуру подбора параметров модели (обратите внимание на `sklearn.model_selection.GridSearchCV`) Как подбор параметров повлиял на качество модели?"
   ]
  },
  {
   "cell_type": "code",
   "execution_count": 61,
   "metadata": {},
   "outputs": [
    {
     "name": "stdout",
     "output_type": "stream",
     "text": [
      "          Var57     Var113      Var76  Var126     Var134     Var133  Var119  \\\n",
      "2615   5.395001  111370.80  2895912.0     0.0   250844.0  3867615.0  1005.0   \n",
      "4127   5.123264  549944.00   170752.0    22.0   838110.0   373605.0  1035.0   \n",
      "11317  4.087588  232037.20   909128.0     0.0  1016420.0   832850.0  1930.0   \n",
      "25840  3.938475   -7060.84  3456000.0    10.0   353552.0  4715590.0   480.0   \n",
      "29132  0.055330 -101348.00    14968.0     0.0      792.0    49410.0   110.0   \n",
      "\n",
      "           Var81     Var163      Var153   ...      Var125     Var94  Var189  \\\n",
      "2615    60213.00    78966.0  10548800.0   ...     29997.0     450.0     0.0   \n",
      "4127   118212.30  1036800.0   9095760.0   ...      1521.0  104799.0     0.0   \n",
      "11317   86389.20   844458.0   6265760.0   ...    185265.0       0.0   324.0   \n",
      "25840   66232.50   513048.0   9339040.0   ...       738.0  207474.0   258.0   \n",
      "29132    3471.12        0.0     48596.0   ...      2088.0       0.0     0.0   \n",
      "\n",
      "       Var73    Var149  Var140   Var28    Var6   Var13  labels  \n",
      "2615      36   41517.0  4825.0  220.08  1568.0   500.0       1  \n",
      "4127      46       0.0  1200.0  186.64  1127.0  1824.0       1  \n",
      "11317     86  211813.0     0.0  390.48  1645.0    12.0       1  \n",
      "25840    130       0.0    15.0  234.72  2709.0     0.0       1  \n",
      "29132    152   10192.0    10.0  166.56    98.0   392.0       1  \n",
      "\n",
      "[5 rows x 21 columns]\n",
      "          Var57    Var113      Var76  Var126    Var134     Var133  Var119  \\\n",
      "35276  6.449477  105297.2  2764800.0   -22.0   40150.0  5218300.0   645.0   \n",
      "27622  0.025208 -345459.2  3460368.0    58.0  398980.0  5055200.0   425.0   \n",
      "536    6.124332  466528.0  2764800.0   -28.0  145048.0  3456000.0   515.0   \n",
      "39189  1.560350  471660.0  2534432.0   -20.0  633608.0  3030845.0   490.0   \n",
      "21715  2.026917 -859064.0        0.0   -28.0       0.0        0.0     0.0   \n",
      "\n",
      "           Var81    Var163      Var153   ...     Var125    Var94  Var189  \\\n",
      "35276  182361.00       0.0  10804120.0   ...        0.0      0.0     0.0   \n",
      "27622   90417.59  392280.0   6924960.0   ...    26739.0    531.0     0.0   \n",
      "536    172889.40       0.0  10357880.0   ...    12780.0  18510.0   336.0   \n",
      "39189  179595.00  475212.0   9546040.0   ...    10557.0    126.0     0.0   \n",
      "21715       0.00       0.0    316804.0   ...        0.0      0.0     0.0   \n",
      "\n",
      "       Var73     Var149  Var140   Var28    Var6   Var13  labels  \n",
      "35276     30   604800.0    10.0  286.96   791.0     0.0       1  \n",
      "27622    156  1813959.0  9515.0  186.64   966.0  8764.0      -1  \n",
      "536       72  1209600.0   200.0  273.60  1071.0    56.0      -1  \n",
      "39189    154   554407.0  1505.0  301.44   623.0  1508.0      -1  \n",
      "21715     12        0.0     0.0  105.04     0.0     0.0      -1  \n",
      "\n",
      "[5 rows x 21 columns]\n"
     ]
    },
    {
     "name": "stderr",
     "output_type": "stream",
     "text": [
      "C:\\Users\\mypc\\Anaconda2\\lib\\site-packages\\ipykernel_launcher.py:47: SettingWithCopyWarning: \n",
      "A value is trying to be set on a copy of a slice from a DataFrame.\n",
      "Try using .loc[row_indexer,col_indexer] = value instead\n",
      "\n",
      "See the caveats in the documentation: http://pandas.pydata.org/pandas-docs/stable/indexing.html#indexing-view-versus-copy\n",
      "C:\\Users\\mypc\\Anaconda2\\lib\\site-packages\\ipykernel_launcher.py:49: SettingWithCopyWarning: \n",
      "A value is trying to be set on a copy of a slice from a DataFrame.\n",
      "Try using .loc[row_indexer,col_indexer] = value instead\n",
      "\n",
      "See the caveats in the documentation: http://pandas.pydata.org/pandas-docs/stable/indexing.html#indexing-view-versus-copy\n"
     ]
    }
   ],
   "source": [
    "df = pd.read_csv('orange_small_churn_data.train')\n",
    "df_labels = pd.read_table('orange_small_churn_labels.train', header = -1, names = [\"labels\"])\n",
    "df['labels'] = df_labels\n",
    "\n",
    "train_df, test_df = model_selection.train_test_split(df, test_size = 0.3)\n",
    "\n",
    "estimator = xgb.XGBClassifier(learning_rate = 0.05, max_delta_step = 1, max_depth = 3, min_child_weight = 20, n_estimators = 500,\n",
    "                              subsample = 0.1)\n",
    "scoring = 'roc_auc'\n",
    "cv = cross_validation.StratifiedKFold(train_df['labels'], n_folds= 4)\n",
    "\n",
    "\n",
    "w3 = np.array([1]*train_df['labels'].shape[0])\n",
    "w3[train_df['labels'] == -1] = 1.\n",
    "w3[train_df['labels'] == 1] = 1.\n",
    "\n",
    "\n",
    "dataChurn = train_df[train_df['labels'] == 1]\n",
    "dataNoChurn = train_df[train_df['labels'] == -1]\n",
    "countFirst = len(dataChurn)\n",
    "dataChurn = dataChurn.append(dataNoChurn.iloc[:countFirst,:])\n",
    "\n",
    "le_data1 = dataChurn\n",
    "le_data2 = test_df\n",
    "\n",
    "label_encoder = LabelEncoder()\n",
    "for i in range(40):\n",
    "    integer_encoded1 = label_encoder.fit_transform(le_data1[le_data1.columns[190 + i]].fillna(0.).values)\n",
    "    for j in range(len(le_data1)):\n",
    "        if type(le_data1[le_data1.columns[190 + i]].values[j]) == str:\n",
    "            le_data1[le_data1.columns[190 + i]].values[j] = integer_encoded[j]\n",
    "    integer_encoded2 = label_encoder.fit_transform(le_data2[le_data2.columns[190 + i]].fillna(0.).values)\n",
    "    for j in range(len(le_data2)):\n",
    "        if type(le_data2[le_data2.columns[190 + i]].values[j]) == str:\n",
    "            le_data2[le_data2.columns[190 + i]].values[j] = integer_encoded[j]\n",
    "\n",
    "le_data1 = le_data1.fillna(0.)\n",
    "le_data2 = le_data2.fillna(0.)\n",
    "\n",
    "\n",
    "estimator.fit(le_data1[le_data1.columns[:230]], le_data1['labels'], sample_weight = w3, eval_metric='auc')\n",
    "indices1 = np.argsort(estimator.feature_importances_)[::-1]\n",
    "train_df = le_data1[le_data1.columns[:230]]\n",
    "test_df = le_data2[le_data2.columns[:230]]\n",
    "\n",
    "train_df_selection = train_df[train_df.columns[indices1[0:20]]]\n",
    "train_df_selection['labels'] = le_data1['labels']\n",
    "test_df_selection = test_df[test_df.columns[indices1[0:20]]]\n",
    "test_df_selection['labels'] = le_data2['labels']\n",
    "\n",
    "\n",
    "print train_df_selection.head()\n",
    "print test_df_selection.head()"
   ]
  },
  {
   "cell_type": "code",
   "execution_count": 63,
   "metadata": {},
   "outputs": [
    {
     "name": "stdout",
     "output_type": "stream",
     "text": [
      "0.696985772342\n"
     ]
    }
   ],
   "source": [
    "estimator.fit(train_df_selection[train_df_selection.columns[:20]], train_df_selection['labels'], sample_weight = w3, eval_metric='auc')\n",
    "xgb_predictions = estimator.predict(test_df_selection[test_df_selection.columns[:20]]) \n",
    "xgb_predictions_proba = estimator.predict_proba(test_df_selection[test_df_selection.columns[:20]]).transpose()[1]\n",
    "print roc_auc_score(test_df_selection['labels'], xgb_predictions_proba)"
   ]
  },
  {
   "cell_type": "code",
   "execution_count": 84,
   "metadata": {},
   "outputs": [
    {
     "name": "stdout",
     "output_type": "stream",
     "text": [
      "[[ 0.58183062  0.41816938]\n",
      " [ 0.58606315  0.41393688]\n",
      " [ 0.81797498  0.18202502]\n",
      " ..., \n",
      " [ 0.61155617  0.38844386]\n",
      " [ 0.45347518  0.54652482]\n",
      " [ 0.91211408  0.08788594]]\n"
     ]
    }
   ],
   "source": [
    "from sklearn.model_selection import GridSearchCV\n",
    "grid_model = xgb.XGBClassifier()\n",
    "parameters = {'max_depth':[3, 4, 5], 'learning_rate':[0.1, 0.2, 0.3, 0.4, 0.5], 'n_estimators':[10, 50, 100, 200]}\n",
    "model = GridSearchCV(grid_model, parameters, scoring = 'roc_auc')\n",
    "model.fit(train_df_selection[train_df_selection.columns[:20]], train_df_selection['labels'])\n",
    "predicted_proba = model.best_estimator_.predict_proba(test_df_selection[test_df_selection.columns[:20]])\n",
    "print predicted_proba"
   ]
  },
  {
   "cell_type": "code",
   "execution_count": 65,
   "metadata": {},
   "outputs": [
    {
     "data": {
      "text/plain": [
       "XGBClassifier(base_score=0.5, booster='gbtree', colsample_bylevel=1,\n",
       "       colsample_bytree=1, gamma=0, learning_rate=0.1, max_delta_step=0,\n",
       "       max_depth=3, min_child_weight=1, missing=None, n_estimators=50,\n",
       "       n_jobs=1, nthread=None, objective='binary:logistic', random_state=0,\n",
       "       reg_alpha=0, reg_lambda=1, scale_pos_weight=1, seed=None,\n",
       "       silent=True, subsample=1)"
      ]
     },
     "execution_count": 65,
     "metadata": {},
     "output_type": "execute_result"
    }
   ],
   "source": [
    "model.best_estimator_"
   ]
  },
  {
   "cell_type": "markdown",
   "metadata": {},
   "source": [
    "###### Ответ\n",
    "Наилучшие параметры модели отличаются от дефолтных:  n_estimators=50."
   ]
  },
  {
   "cell_type": "code",
   "execution_count": 68,
   "metadata": {},
   "outputs": [
    {
     "name": "stdout",
     "output_type": "stream",
     "text": [
      "0.712404219761\n"
     ]
    }
   ],
   "source": [
    "print roc_auc_score(test_df_selection['labels'],predicted_proba[:,1])"
   ]
  },
  {
   "cell_type": "markdown",
   "metadata": {},
   "source": [
    "7\\. Предложите методику оценки того, какие признаки внесли наибольший вклад в модель (например, это могут быть веса в случае регрессии, а также большое количество моделей реализуют метод `feature_importances_` - оценка важности признаков). На основе предложенной методики проанализируйте, какие признаки внесли больший вклад в модель, а какие меньший?"
   ]
  },
  {
   "cell_type": "code",
   "execution_count": 70,
   "metadata": {},
   "outputs": [
    {
     "data": {
      "text/plain": [
       "[('Var57', 0.07692308),\n",
       " ('Var113', 0.088757396),\n",
       " ('Var76', 0.01183432),\n",
       " ('Var126', 0.20414202),\n",
       " ('Var134', 0.0147929),\n",
       " ('Var133', 0.0059171598),\n",
       " ('Var119', 0.020710059),\n",
       " ('Var81', 0.071005918),\n",
       " ('Var163', 0.023668639),\n",
       " ('Var153', 0.035502959),\n",
       " ('Var38', 0.029585799),\n",
       " ('Var125', 0.023668639),\n",
       " ('Var94', 0.023668639),\n",
       " ('Var189', 0.11538462),\n",
       " ('Var73', 0.073964499),\n",
       " ('Var149', 0.0),\n",
       " ('Var140', 0.035502959),\n",
       " ('Var28', 0.065088756),\n",
       " ('Var6', 0.020710059),\n",
       " ('Var13', 0.059171598)]"
      ]
     },
     "execution_count": 70,
     "metadata": {},
     "output_type": "execute_result"
    }
   ],
   "source": [
    "# Features weights\n",
    "zip(train_df.columns[indices1[0:20]], model.best_estimator_.feature_importances_)"
   ]
  },
  {
   "cell_type": "markdown",
   "metadata": {},
   "source": [
    "###### Ответ\n",
    "Из отобранных 20 признаков все числовые, что показывает их значимость в отличие от категориальных. Наибольший вклад в модель внесли признаки 'Var113', 'Var189' и 'Var126' "
   ]
  },
  {
   "cell_type": "markdown",
   "metadata": {},
   "source": [
    "8\\. Напоследок давайте посмотрим на объекты. На каких объектах достигается наибольшая ошибка классификации? Есть ли межу этими объектами что-то общее? Видны ли какие-либо закономерности? Предположите, почему наибольшая ошибка достигается именно на этих объектах. В данном случае \"наибольшую\" ошибку можно понимать как отнесение объекта с чужому классу с большой долей уверенности (с высокой вероятностью)."
   ]
  },
  {
   "cell_type": "code",
   "execution_count": 82,
   "metadata": {},
   "outputs": [
    {
     "data": {
      "text/plain": [
       "Text(0.5,1,u'The most impotant features for objects with the biggest error')"
      ]
     },
     "execution_count": 82,
     "metadata": {},
     "output_type": "execute_result"
    },
    {
     "data": {
      "image/png": "[encoded data removed]",
      "text/plain": [
       "<matplotlib.figure.Figure at 0x4c659400>"
      ]
     },
     "metadata": {},
     "output_type": "display_data"
    }
   ],
   "source": [
    "max_err = pd.DataFrame(test_df_selection[test_df_selection.columns[:20]], columns = train_df.columns[indices1[0:20]])\n",
    "max_err['real_labels'] = test_df_selection['labels'].values\n",
    "max_err['predicted_labels'] = model.best_estimator_.predict(test_df_selection[test_df_selection.columns[:20]])\n",
    "max_err['probability'] = model.best_estimator_.predict_proba(test_df_selection[test_df_selection.columns[:20]])[:,1]\n",
    "plt.hist(max_err[max_err['real_labels'] != max_err['predicted_labels']]['Var113'])\n",
    "plt.hist(max_err[max_err['real_labels'] != max_err['predicted_labels']]['Var189'])\n",
    "plt.hist(max_err[max_err['real_labels'] != max_err['predicted_labels']]['Var126'])\n",
    "plt.legend(['Var113', 'Var189', 'Var126'], bbox_to_anchor=(1.05, 1), loc=2, borderaxespad=0.)\n",
    "plt.title('The most impotant features for objects with the biggest error')"
   ]
  },
  {
   "cell_type": "code",
   "execution_count": 83,
   "metadata": {},
   "outputs": [
    {
     "data": {
      "text/plain": [
       "Text(0.5,1,u'The most impotant features for the whole sample')"
      ]
     },
     "execution_count": 83,
     "metadata": {},
     "output_type": "execute_result"
    },
    {
     "data": {
      "image/png": "[encoded data removed]",
      "text/plain": [
       "<matplotlib.figure.Figure at 0x14d309b0>"
      ]
     },
     "metadata": {},
     "output_type": "display_data"
    }
   ],
   "source": [
    "plt.hist(max_err['Var113'])\n",
    "plt.hist(max_err['Var189'])\n",
    "plt.hist(max_err['Var126'])\n",
    "plt.legend(['Var113', 'Var189', 'Var126'], bbox_to_anchor=(1.05, 1), loc=2, borderaxespad=0.)\n",
    "plt.title('The most impotant features for the whole sample')"
   ]
  },
  {
   "cell_type": "markdown",
   "metadata": {},
   "source": [
    "###### Ответ\n",
    "Большая часть ошибок происходит на объектах класса \"churn\". Распределения важнейших признаков похожи друг на друга и в случае объектов с ошибкой и для всей выборки (можно предположить, что эти признаки похожи на признаки объектов класса \"non churn\")."
   ]
  },
  {
   "cell_type": "markdown",
   "metadata": {},
   "source": [
    "9\\. По итогам проведенных экспериментов постройте финальную решение - модель с наилучшим качеством. Укажите, какие преобразования данных, параметры и пр. вы выбрали для построения финальной модели."
   ]
  },
  {
   "cell_type": "code",
   "execution_count": 85,
   "metadata": {},
   "outputs": [
    {
     "name": "stderr",
     "output_type": "stream",
     "text": [
      "C:\\Users\\mypc\\Anaconda2\\lib\\site-packages\\ipykernel_launcher.py:51: SettingWithCopyWarning: \n",
      "A value is trying to be set on a copy of a slice from a DataFrame.\n",
      "Try using .loc[row_indexer,col_indexer] = value instead\n",
      "\n",
      "See the caveats in the documentation: http://pandas.pydata.org/pandas-docs/stable/indexing.html#indexing-view-versus-copy\n",
      "C:\\Users\\mypc\\Anaconda2\\lib\\site-packages\\ipykernel_launcher.py:53: SettingWithCopyWarning: \n",
      "A value is trying to be set on a copy of a slice from a DataFrame.\n",
      "Try using .loc[row_indexer,col_indexer] = value instead\n",
      "\n",
      "See the caveats in the documentation: http://pandas.pydata.org/pandas-docs/stable/indexing.html#indexing-view-versus-copy\n"
     ]
    },
    {
     "name": "stdout",
     "output_type": "stream",
     "text": [
      "0.719138170009\n"
     ]
    }
   ],
   "source": [
    "# загружаем датасет\n",
    "df = pd.read_csv('orange_small_churn_data.train')\n",
    "df_labels = pd.read_table('orange_small_churn_labels.train', header = -1, names = [\"labels\"])\n",
    "df['labels'] = df_labels\n",
    "\n",
    "train_df, test_df = model_selection.train_test_split(df, test_size = 0.3)\n",
    "\n",
    "# классификатор\n",
    "estimator = xgb.XGBClassifier(learning_rate = 0.05, max_delta_step = 1, max_depth = 3, min_child_weight = 20, n_estimators = 500,\n",
    "                              subsample = 0.1)\n",
    "scoring = 'roc_auc'\n",
    "cv = cross_validation.StratifiedKFold(train_df['labels'], n_folds= 4)\n",
    "\n",
    "# устанавливаем веса модели\n",
    "w3 = np.array([1]*train_df['labels'].shape[0])\n",
    "w3[train_df['labels'] == -1] = 1.\n",
    "w3[train_df['labels'] == 1] = 1.\n",
    "\n",
    "# undersampling\n",
    "dataChurn = train_df[train_df['labels'] == 1]\n",
    "dataNoChurn = train_df[train_df['labels'] == -1]\n",
    "countFirst = len(dataChurn)\n",
    "dataChurn = dataChurn.append(dataNoChurn.iloc[:countFirst,:])\n",
    "\n",
    "le_data1 = dataChurn\n",
    "le_data2 = test_df\n",
    "\n",
    "# label encoding\n",
    "label_encoder = LabelEncoder()\n",
    "for i in range(40):\n",
    "    integer_encoded1 = label_encoder.fit_transform(le_data1[le_data1.columns[190 + i]].fillna(0.).values)\n",
    "    for j in range(len(le_data1)):\n",
    "        if type(le_data1[le_data1.columns[190 + i]].values[j]) == str:\n",
    "            le_data1[le_data1.columns[190 + i]].values[j] = integer_encoded[j]\n",
    "    integer_encoded2 = label_encoder.fit_transform(le_data2[le_data2.columns[190 + i]].fillna(0.).values)\n",
    "    for j in range(len(le_data2)):\n",
    "        if type(le_data2[le_data2.columns[190 + i]].values[j]) == str:\n",
    "            le_data2[le_data2.columns[190 + i]].values[j] = integer_encoded[j]\n",
    "\n",
    "# заполняем nan нулями  \n",
    "le_data1 = le_data1.fillna(0.)\n",
    "le_data2 = le_data2.fillna(0.)\n",
    "\n",
    "# отбор признаков\n",
    "estimator.fit(le_data1[le_data1.columns[:230]], le_data1['labels'], sample_weight = w3, eval_metric='auc')\n",
    "indices1 = np.argsort(estimator.feature_importances_)[::-1]\n",
    "train_df = le_data1[le_data1.columns[:230]]\n",
    "test_df = le_data2[le_data2.columns[:230]]\n",
    "\n",
    "train_df_selection = train_df[train_df.columns[indices1[0:20]]]\n",
    "train_df_selection['labels'] = le_data1['labels']\n",
    "test_df_selection = test_df[test_df.columns[indices1[0:20]]]\n",
    "test_df_selection['labels'] = le_data2['labels']\n",
    "\n",
    "# модель\n",
    "final_model = xgb.XGBClassifier(n_estimators = 50)\n",
    "final_model.fit(train_df_selection[train_df_selection.columns[:20]], train_df_selection['labels'], sample_weight = w3, eval_metric='auc')\n",
    "xgb_predictions = final_model.predict(test_df_selection[test_df_selection.columns[:20]]) \n",
    "xgb_predictions_proba = final_model.predict_proba(test_df_selection[test_df_selection.columns[:20]]).transpose()[1]\n",
    "print roc_auc_score(test_df_selection['labels'], xgb_predictions_proba)"
   ]
  },
  {
   "cell_type": "markdown",
   "metadata": {},
   "source": [
    "10\\. Подумайте, можно ли еще улучшить модель? Что для этого можно сделать? "
   ]
  },
  {
   "cell_type": "markdown",
   "metadata": {
    "collapsed": true
   },
   "source": [
    "Можно избавиться от выбросов, протестировать другие модели. Можно попробовать трансформировать отобранные признаки."
   ]
  }
 ],
 "metadata": {
  "kernelspec": {
   "display_name": "Python 2",
   "language": "python",
   "name": "python2"
  },
  "language_info": {
   "codemirror_mode": {
    "name": "ipython",
    "version": 2
   },
   "file_extension": ".py",
   "mimetype": "text/x-python",
   "name": "python",
   "nbconvert_exporter": "python",
   "pygments_lexer": "ipython2",
   "version": "2.7.14"
  }
 },
 "nbformat": 4,
 "nbformat_minor": 1
}
